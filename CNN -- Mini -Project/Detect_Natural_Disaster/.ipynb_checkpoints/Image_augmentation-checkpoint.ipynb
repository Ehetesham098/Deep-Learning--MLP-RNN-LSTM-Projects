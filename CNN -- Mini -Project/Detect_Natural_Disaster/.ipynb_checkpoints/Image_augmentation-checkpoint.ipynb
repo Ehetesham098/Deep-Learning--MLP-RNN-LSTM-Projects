{
 "cells": [
  {
   "cell_type": "markdown",
   "metadata": {},
   "source": [
    "## Performing Image Augmentation\n",
    "\n",
    "#### Importing Dependencies"
   ]
  },
  {
   "cell_type": "code",
   "execution_count": 11,
   "metadata": {},
   "outputs": [],
   "source": [
    "from keras.preprocessing.image import ImageDataGenerator, array_to_img, img_to_array, load_img\n",
    "from keras.models import Sequential\n",
    "from keras.layers import Conv2D, MaxPooling2D\n",
    "from keras.layers import Activation, Dropout, Flatten, Dense\n",
    "from keras import backend as K\n",
    "import numpy as np\n",
    "import matplotlib.pyplot as plt\n",
    "from sklearn.metrics import confusion_matrix\n",
    "from sklearn.metrics import classification_report\n",
    "import os"
   ]
  },
  {
   "cell_type": "code",
   "execution_count": 12,
   "metadata": {},
   "outputs": [],
   "source": [
    "gen = ImageDataGenerator(\n",
    "        rotation_range=40,\n",
    "        width_shift_range=0.2,\n",
    "        height_shift_range=0.2,\n",
    "        rescale=1./255,\n",
    "        shear_range=0.2,\n",
    "        zoom_range=0.2,\n",
    "        horizontal_flip=True,\n",
    "        fill_mode='nearest')"
   ]
  },
  {
   "cell_type": "markdown",
   "metadata": {},
   "source": [
    "- Loading images from folder corresponding for earthquake , fire and flood.\n",
    "- Performing augmentation and saving to preview folder."
   ]
  },
  {
   "cell_type": "code",
   "execution_count": 13,
   "metadata": {},
   "outputs": [
    {
     "name": "stdout",
     "output_type": "stream",
     "text": [
      "earthquake11.jpeg\n",
      "earthquake7.jpeg\n",
      "earthquake38.png\n",
      "earthquake39.png\n",
      "earthquake29.png\n",
      "earthquake28.png\n",
      "earthquake6.jpeg\n",
      "earthquake10.jpeg\n",
      "earthquake64.png\n",
      "earthquake58.png\n",
      "earthquake59.png\n",
      "earthquake17.jpeg\n",
      "earthquake1.jpeg\n",
      "earthquake0.jpeg\n",
      "earthquake62.png\n",
      "earthquake16.jpeg\n",
      "earthquake63.png\n",
      "earthquake49.png\n",
      "earthquake61.png\n",
      "earthquake60.png\n",
      "earthquake48.png\n",
      "earthquake45.png\n",
      "earthquake51.png\n",
      "earthquake19.jpeg\n",
      "earthquake50.png\n",
      "earthquake44.png\n",
      "earthquake3.jpeg\n",
      "earthquake52.png\n",
      "earthquake46.png\n",
      "earthquake15.jpeg\n",
      "earthquake47.png\n",
      "earthquake53.png\n",
      "earthquake57.png\n",
      "earthquake43.png\n",
      "earthquake14.jpeg\n",
      "earthquake42.png\n",
      "earthquake56.png\n",
      "earthquake2.jpeg\n",
      "earthquake40.png\n",
      "earthquake54.png\n",
      "earthquake18.jpeg\n",
      "earthquake55.png\n",
      "earthquake41.png\n",
      "earthquake5.jpeg\n",
      "earthquake26.png\n",
      "earthquake32.png\n",
      "earthquake13.jpeg\n",
      "earthquake33.png\n",
      "earthquake27.png\n",
      "earthquake31.png\n",
      "earthquake25.png\n",
      "earthquake9.jpeg\n",
      "earthquake24.png\n",
      "earthquake30.png\n",
      "earthquake34.png\n",
      "earthquake20.png\n",
      "earthquake21.png\n",
      "earthquake35.png\n",
      "earthquake8.jpeg\n",
      "earthquake23.png\n",
      "earthquake37.png\n",
      "earthquake12.jpeg\n",
      "earthquake36.png\n",
      "earthquake22.png\n",
      "earthquake4.jpeg\n"
     ]
    }
   ],
   "source": [
    "images = []\n",
    "folder = './data/train/earthquake'\n",
    "for filename in os.listdir(folder):\n",
    "    if filename != '.DS_Store':\n",
    "        print(filename)\n",
    "        img = load_img('./data/train/earthquake/'+filename)\n",
    "        x = img_to_array(img)  # this is a Numpy array with shape (3, 150, 150)\n",
    "        x = x.reshape((1,) + x.shape)  # this is a Numpy array with shape (1, 3, 150, 150)\n",
    "\n",
    "        # the .flow() command below generates batches of randomly transformed images\n",
    "        # and saves the results to the `preview/` directory\n",
    "        i = 0\n",
    "        for batch in gen.flow(x, batch_size=1,\n",
    "                              save_to_dir='preview', save_prefix='earthquake', save_format='jpeg'):\n",
    "            i += 1\n",
    "            if i > 20:\n",
    "                break  # otherwise the generator would loop indefinitely\n"
   ]
  },
  {
   "cell_type": "code",
   "execution_count": null,
   "metadata": {},
   "outputs": [],
   "source": []
  }
 ],
 "metadata": {
  "kernelspec": {
   "display_name": "Python 3",
   "language": "python",
   "name": "python3"
  },
  "language_info": {
   "codemirror_mode": {
    "name": "ipython",
    "version": 3
   },
   "file_extension": ".py",
   "mimetype": "text/x-python",
   "name": "python",
   "nbconvert_exporter": "python",
   "pygments_lexer": "ipython3",
   "version": "3.7.3"
  },
  "varInspector": {
   "cols": {
    "lenName": 16,
    "lenType": 16,
    "lenVar": 40
   },
   "kernels_config": {
    "python": {
     "delete_cmd_postfix": "",
     "delete_cmd_prefix": "del ",
     "library": "var_list.py",
     "varRefreshCmd": "print(var_dic_list())"
    },
    "r": {
     "delete_cmd_postfix": ") ",
     "delete_cmd_prefix": "rm(",
     "library": "var_list.r",
     "varRefreshCmd": "cat(var_dic_list()) "
    }
   },
   "types_to_exclude": [
    "module",
    "function",
    "builtin_function_or_method",
    "instance",
    "_Feature"
   ],
   "window_display": false
  }
 },
 "nbformat": 4,
 "nbformat_minor": 2
}
