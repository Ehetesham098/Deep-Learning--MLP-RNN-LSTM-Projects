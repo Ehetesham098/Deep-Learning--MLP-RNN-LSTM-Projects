{
  "nbformat": 4,
  "nbformat_minor": 0,
  "metadata": {
    "kernelspec": {
      "name": "python3",
      "display_name": "Python 3"
    },
    "language_info": {
      "codemirror_mode": {
        "name": "ipython",
        "version": 3
      },
      "file_extension": ".py",
      "mimetype": "text/x-python",
      "name": "python",
      "nbconvert_exporter": "python",
      "pygments_lexer": "ipython3",
      "version": "3.7.3"
    },
    "colab": {
      "name": "cats_dogs_on_vgg16_model.ipynb",
      "provenance": [],
      "collapsed_sections": [],
      "include_colab_link": true
    },
    "accelerator": "GPU"
  },
  "cells": [
    {
      "cell_type": "markdown",
      "metadata": {
        "id": "view-in-github",
        "colab_type": "text"
      },
      "source": [
        "<a href=\"https://colab.research.google.com/github/utkarshut/Deep-Learning--MLP-RNN-LSTM-Projects/blob/master/cats_dogs_on_vgg16_model.ipynb\" target=\"_parent\"><img src=\"https://colab.research.google.com/assets/colab-badge.svg\" alt=\"Open In Colab\"/></a>"
      ]
    },
    {
      "cell_type": "code",
      "metadata": {
        "id": "qQ4gad_L013j",
        "colab_type": "code",
        "outputId": "f8fc3cde-cf11-4c00-cb8e-a626fe94c2fb",
        "colab": {
          "base_uri": "https://localhost:8080/",
          "height": 97
        }
      },
      "source": [
        "from __future__ import print_function\n",
        "import keras\n",
        "from keras.datasets import mnist\n",
        "from keras.models import Sequential\n",
        "from keras.layers import Dense, Dropout, Flatten,Activation\n",
        "from keras.layers import Conv2D, MaxPooling2D\n",
        "from keras import backend as K\n",
        "#from sklearn.metrics import plot_confusion_matrix\n",
        "from keras import optimizers\n",
        "from keras.preprocessing.image import ImageDataGenerator\n",
        "from keras.models import Sequential\n",
        "import numpy as np\n",
        "import matplotlib.pyplot as plt\n",
        "from sklearn.metrics import confusion_matrix\n",
        "from sklearn.metrics import classification_report\n",
        "from keras.optimizers import Adam\n",
        "from keras.utils import plot_model\n",
        "from keras.models import load_model\n",
        "from google.colab import drive\n",
        "drive.mount('/content/drive')"
      ],
      "execution_count": 5,
      "outputs": [
        {
          "output_type": "stream",
          "text": [
            "Using TensorFlow backend.\n"
          ],
          "name": "stderr"
        },
        {
          "output_type": "display_data",
          "data": {
            "text/html": [
              "<p style=\"color: red;\">\n",
              "The default version of TensorFlow in Colab will soon switch to TensorFlow 2.x.<br>\n",
              "We recommend you <a href=\"https://www.tensorflow.org/guide/migrate\" target=\"_blank\">upgrade</a> now \n",
              "or ensure your notebook will continue to use TensorFlow 1.x via the <code>%tensorflow_version 1.x</code> magic:\n",
              "<a href=\"https://colab.research.google.com/notebooks/tensorflow_version.ipynb\" target=\"_blank\">more info</a>.</p>\n"
            ],
            "text/plain": [
              "<IPython.core.display.HTML object>"
            ]
          },
          "metadata": {
            "tags": []
          }
        },
        {
          "output_type": "stream",
          "text": [
            "Drive already mounted at /content/drive; to attempt to forcibly remount, call drive.mount(\"/content/drive\", force_remount=True).\n"
          ],
          "name": "stdout"
        }
      ]
    },
    {
      "cell_type": "code",
      "metadata": {
        "id": "CsOooJnO013m",
        "colab_type": "code",
        "outputId": "033bdd57-dc45-43b1-9737-2dc99e2c149d",
        "colab": {
          "base_uri": "https://localhost:8080/",
          "height": 377
        }
      },
      "source": [
        "model = keras.applications.vgg16.VGG16()"
      ],
      "execution_count": 6,
      "outputs": [
        {
          "output_type": "stream",
          "text": [
            "WARNING:tensorflow:From /usr/local/lib/python3.6/dist-packages/keras/backend/tensorflow_backend.py:66: The name tf.get_default_graph is deprecated. Please use tf.compat.v1.get_default_graph instead.\n",
            "\n",
            "WARNING:tensorflow:From /usr/local/lib/python3.6/dist-packages/keras/backend/tensorflow_backend.py:541: The name tf.placeholder is deprecated. Please use tf.compat.v1.placeholder instead.\n",
            "\n",
            "WARNING:tensorflow:From /usr/local/lib/python3.6/dist-packages/keras/backend/tensorflow_backend.py:4432: The name tf.random_uniform is deprecated. Please use tf.random.uniform instead.\n",
            "\n",
            "WARNING:tensorflow:From /usr/local/lib/python3.6/dist-packages/keras/backend/tensorflow_backend.py:4267: The name tf.nn.max_pool is deprecated. Please use tf.nn.max_pool2d instead.\n",
            "\n",
            "WARNING:tensorflow:From /usr/local/lib/python3.6/dist-packages/keras/backend/tensorflow_backend.py:190: The name tf.get_default_session is deprecated. Please use tf.compat.v1.get_default_session instead.\n",
            "\n",
            "WARNING:tensorflow:From /usr/local/lib/python3.6/dist-packages/keras/backend/tensorflow_backend.py:197: The name tf.ConfigProto is deprecated. Please use tf.compat.v1.ConfigProto instead.\n",
            "\n",
            "WARNING:tensorflow:From /usr/local/lib/python3.6/dist-packages/keras/backend/tensorflow_backend.py:203: The name tf.Session is deprecated. Please use tf.compat.v1.Session instead.\n",
            "\n",
            "WARNING:tensorflow:From /usr/local/lib/python3.6/dist-packages/keras/backend/tensorflow_backend.py:207: The name tf.global_variables is deprecated. Please use tf.compat.v1.global_variables instead.\n",
            "\n",
            "WARNING:tensorflow:From /usr/local/lib/python3.6/dist-packages/keras/backend/tensorflow_backend.py:216: The name tf.is_variable_initialized is deprecated. Please use tf.compat.v1.is_variable_initialized instead.\n",
            "\n",
            "WARNING:tensorflow:From /usr/local/lib/python3.6/dist-packages/keras/backend/tensorflow_backend.py:223: The name tf.variables_initializer is deprecated. Please use tf.compat.v1.variables_initializer instead.\n",
            "\n"
          ],
          "name": "stdout"
        }
      ]
    },
    {
      "cell_type": "code",
      "metadata": {
        "id": "TiTmAczOE6Cf",
        "colab_type": "code",
        "colab": {
          "base_uri": "https://localhost:8080/",
          "height": 34
        },
        "outputId": "c1ee1424-91e5-4c5f-8105-1619d5d8a314"
      },
      "source": [
        "from google.colab import drive\n",
        "drive.mount('/content/drive')"
      ],
      "execution_count": 6,
      "outputs": [
        {
          "output_type": "stream",
          "text": [
            "Drive already mounted at /content/drive; to attempt to forcibly remount, call drive.mount(\"/content/drive\", force_remount=True).\n"
          ],
          "name": "stdout"
        }
      ]
    },
    {
      "cell_type": "code",
      "metadata": {
        "id": "tEqp8RMmEQHt",
        "colab_type": "code",
        "colab": {
          "base_uri": "https://localhost:8080/",
          "height": 119
        },
        "outputId": "90e9bcae-d355-4d53-a49f-34d95c339564"
      },
      "source": [
        "!unzip '/content/drive/My Drive/data.zip'"
      ],
      "execution_count": 7,
      "outputs": [
        {
          "output_type": "stream",
          "text": [
            "Archive:  /content/drive/My Drive/data.zip\n",
            "replace data/.DS_Store? [y]es, [n]o, [A]ll, [N]one, [r]ename: n\n",
            "replace __MACOSX/data/._.DS_Store? [y]es, [n]o, [A]ll, [N]one, [r]ename: n\n",
            "replace data/test/dogs/dog.991.jpg? [y]es, [n]o, [A]ll, [N]one, [r]ename: n\n",
            "replace __MACOSX/data/test/dogs/._dog.991.jpg? [y]es, [n]o, [A]ll, [N]one, [r]ename: n\n",
            "replace data/test/dogs/dog.985.jpg? [y]es, [n]o, [A]ll, [N]one, [r]ename: N\n"
          ],
          "name": "stdout"
        }
      ]
    },
    {
      "cell_type": "code",
      "metadata": {
        "id": "yu0ErVd3013o",
        "colab_type": "code",
        "outputId": "21f8a65b-c3bf-4364-c447-b75c1fd25174",
        "colab": {
          "base_uri": "https://localhost:8080/",
          "height": 935
        }
      },
      "source": [
        "model.save('./VGG16_model.h5')\n",
        "model.summary()"
      ],
      "execution_count": 8,
      "outputs": [
        {
          "output_type": "stream",
          "text": [
            "Model: \"vgg16\"\n",
            "_________________________________________________________________\n",
            "Layer (type)                 Output Shape              Param #   \n",
            "=================================================================\n",
            "input_1 (InputLayer)         (None, 224, 224, 3)       0         \n",
            "_________________________________________________________________\n",
            "block1_conv1 (Conv2D)        (None, 224, 224, 64)      1792      \n",
            "_________________________________________________________________\n",
            "block1_conv2 (Conv2D)        (None, 224, 224, 64)      36928     \n",
            "_________________________________________________________________\n",
            "block1_pool (MaxPooling2D)   (None, 112, 112, 64)      0         \n",
            "_________________________________________________________________\n",
            "block2_conv1 (Conv2D)        (None, 112, 112, 128)     73856     \n",
            "_________________________________________________________________\n",
            "block2_conv2 (Conv2D)        (None, 112, 112, 128)     147584    \n",
            "_________________________________________________________________\n",
            "block2_pool (MaxPooling2D)   (None, 56, 56, 128)       0         \n",
            "_________________________________________________________________\n",
            "block3_conv1 (Conv2D)        (None, 56, 56, 256)       295168    \n",
            "_________________________________________________________________\n",
            "block3_conv2 (Conv2D)        (None, 56, 56, 256)       590080    \n",
            "_________________________________________________________________\n",
            "block3_conv3 (Conv2D)        (None, 56, 56, 256)       590080    \n",
            "_________________________________________________________________\n",
            "block3_pool (MaxPooling2D)   (None, 28, 28, 256)       0         \n",
            "_________________________________________________________________\n",
            "block4_conv1 (Conv2D)        (None, 28, 28, 512)       1180160   \n",
            "_________________________________________________________________\n",
            "block4_conv2 (Conv2D)        (None, 28, 28, 512)       2359808   \n",
            "_________________________________________________________________\n",
            "block4_conv3 (Conv2D)        (None, 28, 28, 512)       2359808   \n",
            "_________________________________________________________________\n",
            "block4_pool (MaxPooling2D)   (None, 14, 14, 512)       0         \n",
            "_________________________________________________________________\n",
            "block5_conv1 (Conv2D)        (None, 14, 14, 512)       2359808   \n",
            "_________________________________________________________________\n",
            "block5_conv2 (Conv2D)        (None, 14, 14, 512)       2359808   \n",
            "_________________________________________________________________\n",
            "block5_conv3 (Conv2D)        (None, 14, 14, 512)       2359808   \n",
            "_________________________________________________________________\n",
            "block5_pool (MaxPooling2D)   (None, 7, 7, 512)         0         \n",
            "_________________________________________________________________\n",
            "flatten (Flatten)            (None, 25088)             0         \n",
            "_________________________________________________________________\n",
            "fc1 (Dense)                  (None, 4096)              102764544 \n",
            "_________________________________________________________________\n",
            "fc2 (Dense)                  (None, 4096)              16781312  \n",
            "_________________________________________________________________\n",
            "predictions (Dense)          (None, 1000)              4097000   \n",
            "=================================================================\n",
            "Total params: 138,357,544\n",
            "Trainable params: 138,357,544\n",
            "Non-trainable params: 0\n",
            "_________________________________________________________________\n"
          ],
          "name": "stdout"
        }
      ]
    },
    {
      "cell_type": "code",
      "metadata": {
        "id": "J5JWVzxo013q",
        "colab_type": "code",
        "outputId": "a4e85120-d859-4add-92cd-a90b7d1c0560",
        "colab": {
          "base_uri": "https://localhost:8080/",
          "height": 34
        }
      },
      "source": [
        "type(model)"
      ],
      "execution_count": 9,
      "outputs": [
        {
          "output_type": "execute_result",
          "data": {
            "text/plain": [
              "keras.engine.training.Model"
            ]
          },
          "metadata": {
            "tags": []
          },
          "execution_count": 9
        }
      ]
    },
    {
      "cell_type": "code",
      "metadata": {
        "id": "ADy6l2AX013s",
        "colab_type": "code",
        "colab": {}
      },
      "source": [
        "model_s = Sequential()\n",
        "for layers in model.layers:\n",
        "    model_s.add(layers)"
      ],
      "execution_count": 0,
      "outputs": []
    },
    {
      "cell_type": "code",
      "metadata": {
        "id": "e_NwjwKy013u",
        "colab_type": "code",
        "outputId": "8b06fd0d-2414-4c3e-8619-062697da6c96",
        "colab": {
          "base_uri": "https://localhost:8080/",
          "height": 901
        }
      },
      "source": [
        "model_s.summary()"
      ],
      "execution_count": 13,
      "outputs": [
        {
          "output_type": "stream",
          "text": [
            "Model: \"sequential_1\"\n",
            "_________________________________________________________________\n",
            "Layer (type)                 Output Shape              Param #   \n",
            "=================================================================\n",
            "block1_conv1 (Conv2D)        (None, 224, 224, 64)      1792      \n",
            "_________________________________________________________________\n",
            "block1_conv2 (Conv2D)        (None, 224, 224, 64)      36928     \n",
            "_________________________________________________________________\n",
            "block1_pool (MaxPooling2D)   (None, 112, 112, 64)      0         \n",
            "_________________________________________________________________\n",
            "block2_conv1 (Conv2D)        (None, 112, 112, 128)     73856     \n",
            "_________________________________________________________________\n",
            "block2_conv2 (Conv2D)        (None, 112, 112, 128)     147584    \n",
            "_________________________________________________________________\n",
            "block2_pool (MaxPooling2D)   (None, 56, 56, 128)       0         \n",
            "_________________________________________________________________\n",
            "block3_conv1 (Conv2D)        (None, 56, 56, 256)       295168    \n",
            "_________________________________________________________________\n",
            "block3_conv2 (Conv2D)        (None, 56, 56, 256)       590080    \n",
            "_________________________________________________________________\n",
            "block3_conv3 (Conv2D)        (None, 56, 56, 256)       590080    \n",
            "_________________________________________________________________\n",
            "block3_pool (MaxPooling2D)   (None, 28, 28, 256)       0         \n",
            "_________________________________________________________________\n",
            "block4_conv1 (Conv2D)        (None, 28, 28, 512)       1180160   \n",
            "_________________________________________________________________\n",
            "block4_conv2 (Conv2D)        (None, 28, 28, 512)       2359808   \n",
            "_________________________________________________________________\n",
            "block4_conv3 (Conv2D)        (None, 28, 28, 512)       2359808   \n",
            "_________________________________________________________________\n",
            "block4_pool (MaxPooling2D)   (None, 14, 14, 512)       0         \n",
            "_________________________________________________________________\n",
            "block5_conv1 (Conv2D)        (None, 14, 14, 512)       2359808   \n",
            "_________________________________________________________________\n",
            "block5_conv2 (Conv2D)        (None, 14, 14, 512)       2359808   \n",
            "_________________________________________________________________\n",
            "block5_conv3 (Conv2D)        (None, 14, 14, 512)       2359808   \n",
            "_________________________________________________________________\n",
            "block5_pool (MaxPooling2D)   (None, 7, 7, 512)         0         \n",
            "_________________________________________________________________\n",
            "flatten (Flatten)            (None, 25088)             0         \n",
            "_________________________________________________________________\n",
            "fc1 (Dense)                  (None, 4096)              102764544 \n",
            "_________________________________________________________________\n",
            "fc2 (Dense)                  (None, 4096)              16781312  \n",
            "_________________________________________________________________\n",
            "predictions (Dense)          (None, 1000)              4097000   \n",
            "=================================================================\n",
            "Total params: 138,357,544\n",
            "Trainable params: 138,357,544\n",
            "Non-trainable params: 0\n",
            "_________________________________________________________________\n"
          ],
          "name": "stdout"
        }
      ]
    },
    {
      "cell_type": "code",
      "metadata": {
        "id": "OvEfZYJw013w",
        "colab_type": "code",
        "outputId": "426fa6c4-bb38-4f9c-e76b-fd2554fa1b95",
        "colab": {
          "base_uri": "https://localhost:8080/",
          "height": 34
        }
      },
      "source": [
        "model_s.layers.pop()"
      ],
      "execution_count": 11,
      "outputs": [
        {
          "output_type": "execute_result",
          "data": {
            "text/plain": [
              "<keras.layers.core.Dense at 0x7fb9e9d7c7f0>"
            ]
          },
          "metadata": {
            "tags": []
          },
          "execution_count": 11
        }
      ]
    },
    {
      "cell_type": "code",
      "metadata": {
        "id": "61r06sp0013x",
        "colab_type": "code",
        "colab": {}
      },
      "source": [
        "for layer in model_s.layers:\n",
        "    layer.trainable=False"
      ],
      "execution_count": 0,
      "outputs": []
    },
    {
      "cell_type": "code",
      "metadata": {
        "id": "jmQUmBs0013z",
        "colab_type": "code",
        "colab": {}
      },
      "source": [
        "model_s.add(Dense(2,activation='softmax'))"
      ],
      "execution_count": 0,
      "outputs": []
    },
    {
      "cell_type": "code",
      "metadata": {
        "id": "8CjBG8YM0130",
        "colab_type": "code",
        "outputId": "10c09f5d-9105-4771-a915-463bae59e838",
        "colab": {
          "base_uri": "https://localhost:8080/",
          "height": 935
        }
      },
      "source": [
        "model_s.summary()"
      ],
      "execution_count": 14,
      "outputs": [
        {
          "output_type": "stream",
          "text": [
            "Model: \"sequential_1\"\n",
            "_________________________________________________________________\n",
            "Layer (type)                 Output Shape              Param #   \n",
            "=================================================================\n",
            "block1_conv1 (Conv2D)        (None, 224, 224, 64)      1792      \n",
            "_________________________________________________________________\n",
            "block1_conv2 (Conv2D)        (None, 224, 224, 64)      36928     \n",
            "_________________________________________________________________\n",
            "block1_pool (MaxPooling2D)   (None, 112, 112, 64)      0         \n",
            "_________________________________________________________________\n",
            "block2_conv1 (Conv2D)        (None, 112, 112, 128)     73856     \n",
            "_________________________________________________________________\n",
            "block2_conv2 (Conv2D)        (None, 112, 112, 128)     147584    \n",
            "_________________________________________________________________\n",
            "block2_pool (MaxPooling2D)   (None, 56, 56, 128)       0         \n",
            "_________________________________________________________________\n",
            "block3_conv1 (Conv2D)        (None, 56, 56, 256)       295168    \n",
            "_________________________________________________________________\n",
            "block3_conv2 (Conv2D)        (None, 56, 56, 256)       590080    \n",
            "_________________________________________________________________\n",
            "block3_conv3 (Conv2D)        (None, 56, 56, 256)       590080    \n",
            "_________________________________________________________________\n",
            "block3_pool (MaxPooling2D)   (None, 28, 28, 256)       0         \n",
            "_________________________________________________________________\n",
            "block4_conv1 (Conv2D)        (None, 28, 28, 512)       1180160   \n",
            "_________________________________________________________________\n",
            "block4_conv2 (Conv2D)        (None, 28, 28, 512)       2359808   \n",
            "_________________________________________________________________\n",
            "block4_conv3 (Conv2D)        (None, 28, 28, 512)       2359808   \n",
            "_________________________________________________________________\n",
            "block4_pool (MaxPooling2D)   (None, 14, 14, 512)       0         \n",
            "_________________________________________________________________\n",
            "block5_conv1 (Conv2D)        (None, 14, 14, 512)       2359808   \n",
            "_________________________________________________________________\n",
            "block5_conv2 (Conv2D)        (None, 14, 14, 512)       2359808   \n",
            "_________________________________________________________________\n",
            "block5_conv3 (Conv2D)        (None, 14, 14, 512)       2359808   \n",
            "_________________________________________________________________\n",
            "block5_pool (MaxPooling2D)   (None, 7, 7, 512)         0         \n",
            "_________________________________________________________________\n",
            "flatten (Flatten)            (None, 25088)             0         \n",
            "_________________________________________________________________\n",
            "fc1 (Dense)                  (None, 4096)              102764544 \n",
            "_________________________________________________________________\n",
            "fc2 (Dense)                  (None, 4096)              16781312  \n",
            "_________________________________________________________________\n",
            "predictions (Dense)          (None, 1000)              4097000   \n",
            "_________________________________________________________________\n",
            "dense_1 (Dense)              (None, 2)                 2002      \n",
            "=================================================================\n",
            "Total params: 138,359,546\n",
            "Trainable params: 2,002\n",
            "Non-trainable params: 138,357,544\n",
            "_________________________________________________________________\n"
          ],
          "name": "stdout"
        }
      ]
    },
    {
      "cell_type": "code",
      "metadata": {
        "id": "GnujrUsv0133",
        "colab_type": "code",
        "colab": {}
      },
      "source": [
        "model_s.save('./vgg16_2op.h5')"
      ],
      "execution_count": 0,
      "outputs": []
    },
    {
      "cell_type": "code",
      "metadata": {
        "id": "zMnNNBRd0135",
        "colab_type": "code",
        "colab": {}
      },
      "source": [
        "#model_s=load_model('./vgg16_2op.h5')"
      ],
      "execution_count": 0,
      "outputs": []
    },
    {
      "cell_type": "code",
      "metadata": {
        "id": "_f_1Lbgy0136",
        "colab_type": "code",
        "colab": {}
      },
      "source": [
        "train_data_dir = './data/train'\n",
        "valid_data_dir = './data/validation'\n",
        "test_data_dir = './data/test'"
      ],
      "execution_count": 0,
      "outputs": []
    },
    {
      "cell_type": "code",
      "metadata": {
        "id": "KnrT79UB0138",
        "colab_type": "code",
        "outputId": "394afd15-8632-47d3-f8f8-99785350e62d",
        "colab": {
          "base_uri": "https://localhost:8080/",
          "height": 68
        }
      },
      "source": [
        "train_generator = ImageDataGenerator(rescale=1./255).flow_from_directory(\n",
        "        train_data_dir,  # this is the target directory\n",
        "        target_size=(224, 224),  # all images will be resized to 150x150\n",
        "        batch_size=10,\n",
        "        classes=['dogs','cats'])  # since we use binary_crossentropy loss, we need binary labels\n",
        "\n",
        "# this is a similar generator, for validation data\n",
        "valid_generator = ImageDataGenerator(rescale=1./255).flow_from_directory(\n",
        "        valid_data_dir,\n",
        "        target_size=(224, 224),\n",
        "        batch_size=10,\n",
        "        classes=['dogs','cats'])   #class_mode='binary')\n",
        "# this is a similar generator, for validation data\n",
        "test_generator = ImageDataGenerator(rescale=1./255).flow_from_directory(\n",
        "        test_data_dir,\n",
        "        target_size=(224, 224),\n",
        "        batch_size=10,\n",
        "        classes=['dogs','cats'])   #class_mode='binary')"
      ],
      "execution_count": 17,
      "outputs": [
        {
          "output_type": "stream",
          "text": [
            "Found 1950 images belonging to 2 classes.\n",
            "Found 1000 images belonging to 2 classes.\n",
            "Found 50 images belonging to 2 classes.\n"
          ],
          "name": "stdout"
        }
      ]
    },
    {
      "cell_type": "code",
      "metadata": {
        "id": "UiFTetF0014A",
        "colab_type": "code",
        "outputId": "1318cc5a-d64e-43a9-fc52-1df1593ed969",
        "colab": {
          "base_uri": "https://localhost:8080/",
          "height": 34
        }
      },
      "source": [
        "# dimensions of our images.\n",
        "img_width, img_height = 224, 224\n",
        "nb_train_samples = 2000\n",
        "nb_validation_samples = 1000\n",
        "epochs = 50\n",
        "batch_size = 16\n",
        "\n",
        "if K.image_data_format() == 'channels_first':\n",
        "    input_shape = (3, img_width, img_height)\n",
        "else:\n",
        "    input_shape = (img_width, img_height, 3)\n",
        "print(input_shape,'input_shape')"
      ],
      "execution_count": 18,
      "outputs": [
        {
          "output_type": "stream",
          "text": [
            "(224, 224, 3) input_shape\n"
          ],
          "name": "stdout"
        }
      ]
    },
    {
      "cell_type": "code",
      "metadata": {
        "id": "JeZsGiwY014C",
        "colab_type": "code",
        "outputId": "cdd962d1-7796-45b8-c4dc-e1fcf83d6426",
        "colab": {
          "base_uri": "https://localhost:8080/",
          "height": 51
        }
      },
      "source": [
        "print(train_generator.class_indices)\n",
        "labels = (train_generator.class_indices)\n",
        "labels = dict((v,k) for k,v in labels.items())\n",
        "print(labels)"
      ],
      "execution_count": 19,
      "outputs": [
        {
          "output_type": "stream",
          "text": [
            "{'dogs': 0, 'cats': 1}\n",
            "{0: 'dogs', 1: 'cats'}\n"
          ],
          "name": "stdout"
        }
      ]
    },
    {
      "cell_type": "code",
      "metadata": {
        "id": "I1JCzsSE014E",
        "colab_type": "code",
        "outputId": "1f66d146-b000-423d-e682-7299d263cc65",
        "colab": {
          "base_uri": "https://localhost:8080/",
          "height": 34
        }
      },
      "source": [
        "STEP_SIZE_TRAIN=train_generator.n//train_generator.batch_size\n",
        "STEP_SIZE_VALID=valid_generator.n//valid_generator.batch_size\n",
        "STEP_SIZE_TEST=test_generator.n//test_generator.batch_size\n",
        "print(STEP_SIZE_TRAIN,STEP_SIZE_VALID,STEP_SIZE_TEST)"
      ],
      "execution_count": 20,
      "outputs": [
        {
          "output_type": "stream",
          "text": [
            "195 100 5\n"
          ],
          "name": "stdout"
        }
      ]
    },
    {
      "cell_type": "code",
      "metadata": {
        "id": "kgW_auCO014G",
        "colab_type": "code",
        "colab": {}
      },
      "source": [
        "model_s.compile(loss='binary_crossentropy',\n",
        "              optimizer='Adam',\n",
        "              metrics=['accuracy'])"
      ],
      "execution_count": 0,
      "outputs": []
    },
    {
      "cell_type": "code",
      "metadata": {
        "id": "1TBOq54I014J",
        "colab_type": "code",
        "outputId": "711d3275-ec6e-4fd4-daf6-1a13ad235c30",
        "colab": {
          "base_uri": "https://localhost:8080/",
          "height": 1000
        }
      },
      "source": [
        "model_s.fit_generator(generator=train_generator,validation_data=valid_generator,\\\n",
        "                    steps_per_epoch=STEP_SIZE_TRAIN,validation_steps=STEP_SIZE_VALID,verbose=1,epochs=30)"
      ],
      "execution_count": 24,
      "outputs": [
        {
          "output_type": "stream",
          "text": [
            "Epoch 1/30\n",
            "195/195 [==============================] - 13s 64ms/step - loss: 0.6269 - acc: 0.7226 - val_loss: 0.6199 - val_acc: 0.7410\n",
            "Epoch 2/30\n",
            "195/195 [==============================] - 11s 58ms/step - loss: 0.6253 - acc: 0.7138 - val_loss: 0.6183 - val_acc: 0.7410\n",
            "Epoch 3/30\n",
            "195/195 [==============================] - 12s 61ms/step - loss: 0.6238 - acc: 0.7226 - val_loss: 0.6167 - val_acc: 0.7390\n",
            "Epoch 4/30\n",
            "195/195 [==============================] - 12s 59ms/step - loss: 0.6224 - acc: 0.7215 - val_loss: 0.6152 - val_acc: 0.7400\n",
            "Epoch 5/30\n",
            "195/195 [==============================] - 12s 59ms/step - loss: 0.6210 - acc: 0.7241 - val_loss: 0.6137 - val_acc: 0.7400\n",
            "Epoch 6/30\n",
            "195/195 [==============================] - 11s 58ms/step - loss: 0.6195 - acc: 0.7226 - val_loss: 0.6122 - val_acc: 0.7410\n",
            "Epoch 7/30\n",
            "195/195 [==============================] - 12s 61ms/step - loss: 0.6182 - acc: 0.7231 - val_loss: 0.6107 - val_acc: 0.7410\n",
            "Epoch 8/30\n",
            "195/195 [==============================] - 11s 58ms/step - loss: 0.6169 - acc: 0.7226 - val_loss: 0.6092 - val_acc: 0.7380\n",
            "Epoch 9/30\n",
            "195/195 [==============================] - 12s 61ms/step - loss: 0.6156 - acc: 0.7236 - val_loss: 0.6078 - val_acc: 0.7400\n",
            "Epoch 10/30\n",
            "195/195 [==============================] - 12s 60ms/step - loss: 0.6142 - acc: 0.7231 - val_loss: 0.6063 - val_acc: 0.7440\n",
            "Epoch 11/30\n",
            "195/195 [==============================] - 12s 60ms/step - loss: 0.6128 - acc: 0.7241 - val_loss: 0.6049 - val_acc: 0.7400\n",
            "Epoch 12/30\n",
            "195/195 [==============================] - 11s 59ms/step - loss: 0.6115 - acc: 0.7256 - val_loss: 0.6036 - val_acc: 0.7380\n",
            "Epoch 13/30\n",
            "195/195 [==============================] - 12s 60ms/step - loss: 0.6104 - acc: 0.7251 - val_loss: 0.6023 - val_acc: 0.7380\n",
            "Epoch 14/30\n",
            "195/195 [==============================] - 12s 60ms/step - loss: 0.6090 - acc: 0.7262 - val_loss: 0.6009 - val_acc: 0.7380\n",
            "Epoch 15/30\n",
            "195/195 [==============================] - 12s 60ms/step - loss: 0.6079 - acc: 0.7226 - val_loss: 0.5997 - val_acc: 0.7390\n",
            "Epoch 16/30\n",
            "195/195 [==============================] - 12s 62ms/step - loss: 0.6068 - acc: 0.7251 - val_loss: 0.5983 - val_acc: 0.7410\n",
            "Epoch 17/30\n",
            "195/195 [==============================] - 11s 58ms/step - loss: 0.6054 - acc: 0.7277 - val_loss: 0.5970 - val_acc: 0.7400\n",
            "Epoch 18/30\n",
            "195/195 [==============================] - 12s 62ms/step - loss: 0.6044 - acc: 0.7251 - val_loss: 0.5957 - val_acc: 0.7390\n",
            "Epoch 19/30\n",
            "195/195 [==============================] - 11s 58ms/step - loss: 0.6030 - acc: 0.7246 - val_loss: 0.5945 - val_acc: 0.7470\n",
            "Epoch 20/30\n",
            "195/195 [==============================] - 11s 59ms/step - loss: 0.6020 - acc: 0.7267 - val_loss: 0.5933 - val_acc: 0.7420\n",
            "Epoch 21/30\n",
            "195/195 [==============================] - 12s 60ms/step - loss: 0.6008 - acc: 0.7303 - val_loss: 0.5921 - val_acc: 0.7430\n",
            "Epoch 22/30\n",
            "195/195 [==============================] - 12s 59ms/step - loss: 0.5998 - acc: 0.7267 - val_loss: 0.5910 - val_acc: 0.7460\n",
            "Epoch 23/30\n",
            "195/195 [==============================] - 12s 60ms/step - loss: 0.5987 - acc: 0.7277 - val_loss: 0.5898 - val_acc: 0.7450\n",
            "Epoch 24/30\n",
            "195/195 [==============================] - 12s 61ms/step - loss: 0.5976 - acc: 0.7313 - val_loss: 0.5887 - val_acc: 0.7480\n",
            "Epoch 25/30\n",
            "195/195 [==============================] - 11s 57ms/step - loss: 0.5966 - acc: 0.7292 - val_loss: 0.5876 - val_acc: 0.7460\n",
            "Epoch 26/30\n",
            "195/195 [==============================] - 12s 60ms/step - loss: 0.5956 - acc: 0.7303 - val_loss: 0.5865 - val_acc: 0.7460\n",
            "Epoch 27/30\n",
            "195/195 [==============================] - 12s 59ms/step - loss: 0.5945 - acc: 0.7313 - val_loss: 0.5854 - val_acc: 0.7470\n",
            "Epoch 28/30\n",
            "195/195 [==============================] - 11s 57ms/step - loss: 0.5935 - acc: 0.7308 - val_loss: 0.5843 - val_acc: 0.7480\n",
            "Epoch 29/30\n",
            "195/195 [==============================] - 12s 60ms/step - loss: 0.5925 - acc: 0.7318 - val_loss: 0.5832 - val_acc: 0.7530\n",
            "Epoch 30/30\n",
            "195/195 [==============================] - 12s 59ms/step - loss: 0.5915 - acc: 0.7292 - val_loss: 0.5822 - val_acc: 0.7530\n"
          ],
          "name": "stdout"
        },
        {
          "output_type": "execute_result",
          "data": {
            "text/plain": [
              "<keras.callbacks.History at 0x7fb8a886b7f0>"
            ]
          },
          "metadata": {
            "tags": []
          },
          "execution_count": 24
        }
      ]
    },
    {
      "cell_type": "code",
      "metadata": {
        "id": "J_1Gu6WT014K",
        "colab_type": "code",
        "colab": {}
      },
      "source": [
        ""
      ],
      "execution_count": 0,
      "outputs": []
    },
    {
      "cell_type": "code",
      "metadata": {
        "id": "5ufQBPj-014N",
        "colab_type": "code",
        "colab": {}
      },
      "source": [
        ""
      ],
      "execution_count": 0,
      "outputs": []
    }
  ]
}