{
 "cells": [
  {
   "cell_type": "code",
   "execution_count": 173,
   "metadata": {},
   "outputs": [],
   "source": [
    "# Importing the libraries\n",
    "import numpy as np\n",
    "import matplotlib.pyplot as plt\n",
    "import pandas as pd\n",
    "# Importing the Keras libraries and packages\n",
    "from keras.models import Sequential\n",
    "from keras.layers import Dense\n",
    "from keras.layers import LSTM\n",
    "from keras.layers import Dropout\n",
    "from keras.layers.advanced_activations import LeakyReLU"
   ]
  },
  {
   "cell_type": "code",
   "execution_count": 174,
   "metadata": {},
   "outputs": [],
   "source": [
    "df = pd.read_csv('./data/tcs_train.csv')\n",
    "df.dropna(inplace=True)"
   ]
  },
  {
   "cell_type": "code",
   "execution_count": 175,
   "metadata": {},
   "outputs": [
    {
     "data": {
      "text/html": [
       "<div>\n",
       "<style scoped>\n",
       "    .dataframe tbody tr th:only-of-type {\n",
       "        vertical-align: middle;\n",
       "    }\n",
       "\n",
       "    .dataframe tbody tr th {\n",
       "        vertical-align: top;\n",
       "    }\n",
       "\n",
       "    .dataframe thead th {\n",
       "        text-align: right;\n",
       "    }\n",
       "</style>\n",
       "<table border=\"1\" class=\"dataframe\">\n",
       "  <thead>\n",
       "    <tr style=\"text-align: right;\">\n",
       "      <th></th>\n",
       "      <th>Date</th>\n",
       "      <th>Open</th>\n",
       "      <th>High</th>\n",
       "      <th>Low</th>\n",
       "      <th>Close</th>\n",
       "      <th>Adj Close</th>\n",
       "      <th>Volume</th>\n",
       "    </tr>\n",
       "  </thead>\n",
       "  <tbody>\n",
       "    <tr>\n",
       "      <td>0</td>\n",
       "      <td>2015-12-21</td>\n",
       "      <td>1209.969971</td>\n",
       "      <td>1225.000000</td>\n",
       "      <td>1203.430054</td>\n",
       "      <td>1223.199951</td>\n",
       "      <td>1098.629028</td>\n",
       "      <td>1610104.0</td>\n",
       "    </tr>\n",
       "    <tr>\n",
       "      <td>1</td>\n",
       "      <td>2015-12-22</td>\n",
       "      <td>1220.000000</td>\n",
       "      <td>1220.000000</td>\n",
       "      <td>1200.000000</td>\n",
       "      <td>1202.530029</td>\n",
       "      <td>1080.064209</td>\n",
       "      <td>1560858.0</td>\n",
       "    </tr>\n",
       "    <tr>\n",
       "      <td>2</td>\n",
       "      <td>2015-12-23</td>\n",
       "      <td>1207.500000</td>\n",
       "      <td>1217.500000</td>\n",
       "      <td>1205.280029</td>\n",
       "      <td>1212.900024</td>\n",
       "      <td>1089.378174</td>\n",
       "      <td>849834.0</td>\n",
       "    </tr>\n",
       "    <tr>\n",
       "      <td>3</td>\n",
       "      <td>2015-12-24</td>\n",
       "      <td>1210.500000</td>\n",
       "      <td>1219.099976</td>\n",
       "      <td>1202.000000</td>\n",
       "      <td>1217.119995</td>\n",
       "      <td>1093.168457</td>\n",
       "      <td>843160.0</td>\n",
       "    </tr>\n",
       "    <tr>\n",
       "      <td>4</td>\n",
       "      <td>2015-12-28</td>\n",
       "      <td>1214.000000</td>\n",
       "      <td>1233.199951</td>\n",
       "      <td>1210.099976</td>\n",
       "      <td>1231.349976</td>\n",
       "      <td>1105.948730</td>\n",
       "      <td>3704198.0</td>\n",
       "    </tr>\n",
       "  </tbody>\n",
       "</table>\n",
       "</div>"
      ],
      "text/plain": [
       "         Date         Open         High          Low        Close  \\\n",
       "0  2015-12-21  1209.969971  1225.000000  1203.430054  1223.199951   \n",
       "1  2015-12-22  1220.000000  1220.000000  1200.000000  1202.530029   \n",
       "2  2015-12-23  1207.500000  1217.500000  1205.280029  1212.900024   \n",
       "3  2015-12-24  1210.500000  1219.099976  1202.000000  1217.119995   \n",
       "4  2015-12-28  1214.000000  1233.199951  1210.099976  1231.349976   \n",
       "\n",
       "     Adj Close     Volume  \n",
       "0  1098.629028  1610104.0  \n",
       "1  1080.064209  1560858.0  \n",
       "2  1089.378174   849834.0  \n",
       "3  1093.168457   843160.0  \n",
       "4  1105.948730  3704198.0  "
      ]
     },
     "execution_count": 175,
     "metadata": {},
     "output_type": "execute_result"
    }
   ],
   "source": [
    "df.head()"
   ]
  },
  {
   "cell_type": "code",
   "execution_count": 176,
   "metadata": {},
   "outputs": [
    {
     "data": {
      "text/plain": [
       "(983, 7)"
      ]
     },
     "execution_count": 176,
     "metadata": {},
     "output_type": "execute_result"
    }
   ],
   "source": [
    "df.shape"
   ]
  },
  {
   "cell_type": "markdown",
   "metadata": {},
   "source": [
    "#### Data Preprocessing"
   ]
  },
  {
   "cell_type": "code",
   "execution_count": 177,
   "metadata": {},
   "outputs": [],
   "source": [
    "df_train = df.iloc[:, 1:2].values\n",
    "#df_train"
   ]
  },
  {
   "cell_type": "code",
   "execution_count": 178,
   "metadata": {},
   "outputs": [],
   "source": [
    "# Feature Scaling\n",
    "from sklearn.preprocessing import MinMaxScaler\n",
    "sc = MinMaxScaler(feature_range = (0, 1))\n",
    "df_train_sc = sc.fit_transform(df_train)"
   ]
  },
  {
   "cell_type": "code",
   "execution_count": 179,
   "metadata": {},
   "outputs": [],
   "source": [
    "# Creating a data structure with 60 timesteps and 1 output\n",
    "X_train = []\n",
    "y_train = []\n",
    "for i in range(60, 983):\n",
    "    X_train.append(df_train_sc[i-60:i, 0])\n",
    "    y_train.append(df_train_sc[i, 0])\n",
    "X_train, y_train = np.array(X_train), np.array(y_train)\n"
   ]
  },
  {
   "cell_type": "code",
   "execution_count": 180,
   "metadata": {},
   "outputs": [
    {
     "data": {
      "text/plain": [
       "((923, 60), (923,))"
      ]
     },
     "execution_count": 180,
     "metadata": {},
     "output_type": "execute_result"
    }
   ],
   "source": [
    "X_train.shape,y_train.shape"
   ]
  },
  {
   "cell_type": "code",
   "execution_count": 181,
   "metadata": {},
   "outputs": [],
   "source": [
    "# Reshaping\n",
    "X_train = np.reshape(X_train, (X_train.shape[0], X_train.shape[1], 1))"
   ]
  },
  {
   "cell_type": "code",
   "execution_count": 182,
   "metadata": {},
   "outputs": [],
   "source": [
    "# Initialising the RNN\n",
    "regressor = Sequential()\n",
    "\n",
    "# Adding the first LSTM layer and some Dropout regularisation\n",
    "regressor.add(LSTM(units = 50, return_sequences = True, input_shape = (X_train.shape[1], 1)))\n",
    "regressor.add(Dropout(0.2))\n",
    "\n",
    "# Adding a second LSTM layer and some Dropout regularisation\n",
    "regressor.add(LSTM(units = 50, return_sequences = True))\n",
    "regressor.add(Dropout(0.2))\n",
    "\n",
    "# Adding a third LSTM layer and some Dropout regularisation\n",
    "regressor.add(LSTM(units = 50, return_sequences = True))\n",
    "regressor.add(Dropout(0.2))\n",
    "\n",
    "# Adding a fourth LSTM layer and some Dropout regularisation\n",
    "regressor.add(LSTM(units = 50))\n",
    "regressor.add(Dropout(0.2))\n",
    "\n",
    "# Adding the output layer\n",
    "regressor.add(Dense(units = 1))"
   ]
  },
  {
   "cell_type": "code",
   "execution_count": 183,
   "metadata": {},
   "outputs": [
    {
     "name": "stdout",
     "output_type": "stream",
     "text": [
      "Epoch 1/100\n",
      "923/923 [==============================] - 4s 5ms/step - loss: 0.0502\n",
      "Epoch 2/100\n",
      "923/923 [==============================] - 3s 3ms/step - loss: 0.0085\n",
      "Epoch 3/100\n",
      "923/923 [==============================] - 3s 3ms/step - loss: 0.0072\n",
      "Epoch 4/100\n",
      "923/923 [==============================] - 3s 3ms/step - loss: 0.0070\n",
      "Epoch 5/100\n",
      "923/923 [==============================] - 3s 3ms/step - loss: 0.0067\n",
      "Epoch 6/100\n",
      "923/923 [==============================] - 3s 3ms/step - loss: 0.0064\n",
      "Epoch 7/100\n",
      "923/923 [==============================] - 3s 3ms/step - loss: 0.0060\n",
      "Epoch 8/100\n",
      "923/923 [==============================] - 3s 3ms/step - loss: 0.0059\n",
      "Epoch 9/100\n",
      "923/923 [==============================] - 3s 3ms/step - loss: 0.0061\n",
      "Epoch 10/100\n",
      "923/923 [==============================] - 3s 3ms/step - loss: 0.0061\n",
      "Epoch 11/100\n",
      "923/923 [==============================] - 3s 3ms/step - loss: 0.0053\n",
      "Epoch 12/100\n",
      "923/923 [==============================] - 3s 3ms/step - loss: 0.0056\n",
      "Epoch 13/100\n",
      "923/923 [==============================] - 3s 3ms/step - loss: 0.0053\n",
      "Epoch 14/100\n",
      "923/923 [==============================] - 3s 3ms/step - loss: 0.0055\n",
      "Epoch 15/100\n",
      "923/923 [==============================] - 3s 3ms/step - loss: 0.0056\n",
      "Epoch 16/100\n",
      "923/923 [==============================] - 3s 3ms/step - loss: 0.0056\n",
      "Epoch 17/100\n",
      "923/923 [==============================] - 3s 3ms/step - loss: 0.0048\n",
      "Epoch 18/100\n",
      "923/923 [==============================] - 3s 3ms/step - loss: 0.0046\n",
      "Epoch 19/100\n",
      "923/923 [==============================] - 3s 4ms/step - loss: 0.0052\n",
      "Epoch 20/100\n",
      "923/923 [==============================] - 3s 3ms/step - loss: 0.0044\n",
      "Epoch 21/100\n",
      "923/923 [==============================] - 3s 3ms/step - loss: 0.0047\n",
      "Epoch 22/100\n",
      "923/923 [==============================] - 3s 3ms/step - loss: 0.0048\n",
      "Epoch 23/100\n",
      "923/923 [==============================] - 3s 3ms/step - loss: 0.0041\n",
      "Epoch 24/100\n",
      "923/923 [==============================] - 3s 3ms/step - loss: 0.0037\n",
      "Epoch 25/100\n",
      "923/923 [==============================] - 3s 3ms/step - loss: 0.0039\n",
      "Epoch 26/100\n",
      "923/923 [==============================] - 3s 3ms/step - loss: 0.0036\n",
      "Epoch 27/100\n",
      "923/923 [==============================] - 3s 3ms/step - loss: 0.0038\n",
      "Epoch 28/100\n",
      "923/923 [==============================] - 3s 3ms/step - loss: 0.0038\n",
      "Epoch 29/100\n",
      "923/923 [==============================] - 3s 3ms/step - loss: 0.0038\n",
      "Epoch 30/100\n",
      "923/923 [==============================] - 3s 3ms/step - loss: 0.0041\n",
      "Epoch 31/100\n",
      "923/923 [==============================] - 3s 4ms/step - loss: 0.0032\n",
      "Epoch 32/100\n",
      "923/923 [==============================] - 3s 3ms/step - loss: 0.0033\n",
      "Epoch 33/100\n",
      "923/923 [==============================] - 3s 3ms/step - loss: 0.0034\n",
      "Epoch 34/100\n",
      "923/923 [==============================] - 3s 4ms/step - loss: 0.0035\n",
      "Epoch 35/100\n",
      "923/923 [==============================] - 3s 4ms/step - loss: 0.0034\n",
      "Epoch 36/100\n",
      "923/923 [==============================] - 3s 3ms/step - loss: 0.0035\n",
      "Epoch 37/100\n",
      "923/923 [==============================] - 3s 3ms/step - loss: 0.0036\n",
      "Epoch 38/100\n",
      "923/923 [==============================] - 3s 3ms/step - loss: 0.0035\n",
      "Epoch 39/100\n",
      "923/923 [==============================] - 3s 3ms/step - loss: 0.0032\n",
      "Epoch 40/100\n",
      "923/923 [==============================] - 4s 4ms/step - loss: 0.0030\n",
      "Epoch 41/100\n",
      "923/923 [==============================] - 3s 3ms/step - loss: 0.0032\n",
      "Epoch 42/100\n",
      "923/923 [==============================] - 3s 3ms/step - loss: 0.0035\n",
      "Epoch 43/100\n",
      "923/923 [==============================] - 3s 4ms/step - loss: 0.0031\n",
      "Epoch 44/100\n",
      "923/923 [==============================] - 3s 3ms/step - loss: 0.0033\n",
      "Epoch 45/100\n",
      "923/923 [==============================] - 3s 3ms/step - loss: 0.0030\n",
      "Epoch 46/100\n",
      "923/923 [==============================] - 3s 3ms/step - loss: 0.0029\n",
      "Epoch 47/100\n",
      "923/923 [==============================] - 3s 3ms/step - loss: 0.0028\n",
      "Epoch 48/100\n",
      "923/923 [==============================] - 3s 3ms/step - loss: 0.0030\n",
      "Epoch 49/100\n",
      "923/923 [==============================] - 3s 3ms/step - loss: 0.0027\n",
      "Epoch 50/100\n",
      "923/923 [==============================] - 3s 3ms/step - loss: 0.0029\n",
      "Epoch 51/100\n",
      "923/923 [==============================] - 3s 3ms/step - loss: 0.0029\n",
      "Epoch 52/100\n",
      "923/923 [==============================] - 3s 3ms/step - loss: 0.0026\n",
      "Epoch 53/100\n",
      "923/923 [==============================] - 3s 3ms/step - loss: 0.0026\n",
      "Epoch 54/100\n",
      "923/923 [==============================] - 3s 3ms/step - loss: 0.0031\n",
      "Epoch 55/100\n",
      "923/923 [==============================] - 3s 3ms/step - loss: 0.0026\n",
      "Epoch 56/100\n",
      "923/923 [==============================] - 3s 3ms/step - loss: 0.0030\n",
      "Epoch 57/100\n",
      "923/923 [==============================] - 3s 3ms/step - loss: 0.0028\n",
      "Epoch 58/100\n",
      "923/923 [==============================] - 3s 3ms/step - loss: 0.0025\n",
      "Epoch 59/100\n",
      "923/923 [==============================] - 3s 3ms/step - loss: 0.0034\n",
      "Epoch 60/100\n",
      "923/923 [==============================] - 3s 3ms/step - loss: 0.0031\n",
      "Epoch 61/100\n",
      "923/923 [==============================] - 3s 3ms/step - loss: 0.0023\n",
      "Epoch 62/100\n",
      "923/923 [==============================] - 3s 3ms/step - loss: 0.0026\n",
      "Epoch 63/100\n",
      "923/923 [==============================] - 3s 3ms/step - loss: 0.0024\n",
      "Epoch 64/100\n",
      "923/923 [==============================] - 3s 3ms/step - loss: 0.0024\n",
      "Epoch 65/100\n",
      "923/923 [==============================] - 3s 3ms/step - loss: 0.0025\n",
      "Epoch 66/100\n",
      "923/923 [==============================] - 3s 3ms/step - loss: 0.0021\n",
      "Epoch 67/100\n",
      "923/923 [==============================] - 3s 3ms/step - loss: 0.0027\n",
      "Epoch 68/100\n",
      "923/923 [==============================] - 3s 3ms/step - loss: 0.0023\n",
      "Epoch 69/100\n",
      "923/923 [==============================] - 3s 3ms/step - loss: 0.0026\n",
      "Epoch 70/100\n",
      "923/923 [==============================] - 3s 3ms/step - loss: 0.0026\n",
      "Epoch 71/100\n",
      "923/923 [==============================] - 3s 3ms/step - loss: 0.0026\n",
      "Epoch 72/100\n",
      "923/923 [==============================] - 3s 3ms/step - loss: 0.0023\n",
      "Epoch 73/100\n",
      "923/923 [==============================] - 3s 3ms/step - loss: 0.0025\n",
      "Epoch 74/100\n",
      "923/923 [==============================] - 3s 3ms/step - loss: 0.0025\n",
      "Epoch 75/100\n",
      "923/923 [==============================] - 3s 3ms/step - loss: 0.0028\n",
      "Epoch 76/100\n",
      "923/923 [==============================] - 3s 3ms/step - loss: 0.0021\n",
      "Epoch 77/100\n",
      "923/923 [==============================] - 3s 3ms/step - loss: 0.0020\n",
      "Epoch 78/100\n",
      "923/923 [==============================] - 3s 3ms/step - loss: 0.0022\n",
      "Epoch 79/100\n",
      "923/923 [==============================] - 3s 3ms/step - loss: 0.0022\n",
      "Epoch 80/100\n",
      "923/923 [==============================] - 3s 3ms/step - loss: 0.0025\n",
      "Epoch 81/100\n",
      "923/923 [==============================] - 3s 3ms/step - loss: 0.0023\n",
      "Epoch 82/100\n",
      "923/923 [==============================] - 3s 3ms/step - loss: 0.0021\n",
      "Epoch 83/100\n",
      "923/923 [==============================] - 3s 3ms/step - loss: 0.0023\n",
      "Epoch 84/100\n",
      "923/923 [==============================] - 3s 3ms/step - loss: 0.0026\n",
      "Epoch 85/100\n",
      "923/923 [==============================] - 3s 3ms/step - loss: 0.0022\n",
      "Epoch 86/100\n",
      "923/923 [==============================] - 3s 3ms/step - loss: 0.0025\n",
      "Epoch 87/100\n",
      "923/923 [==============================] - 3s 3ms/step - loss: 0.0021\n",
      "Epoch 88/100\n",
      "923/923 [==============================] - 3s 3ms/step - loss: 0.0021\n",
      "Epoch 89/100\n",
      "923/923 [==============================] - 3s 3ms/step - loss: 0.0023\n",
      "Epoch 90/100\n",
      "923/923 [==============================] - 3s 3ms/step - loss: 0.0023\n",
      "Epoch 91/100\n",
      "923/923 [==============================] - 3s 3ms/step - loss: 0.0022\n",
      "Epoch 92/100\n",
      "923/923 [==============================] - 3s 3ms/step - loss: 0.0021\n",
      "Epoch 93/100\n",
      "923/923 [==============================] - 3s 3ms/step - loss: 0.0021\n",
      "Epoch 94/100\n",
      "923/923 [==============================] - 3s 3ms/step - loss: 0.0021\n",
      "Epoch 95/100\n",
      "923/923 [==============================] - 3s 3ms/step - loss: 0.0020\n",
      "Epoch 96/100\n",
      "923/923 [==============================] - 3s 3ms/step - loss: 0.0018\n",
      "Epoch 97/100\n",
      "923/923 [==============================] - 3s 3ms/step - loss: 0.0024\n",
      "Epoch 98/100\n",
      "923/923 [==============================] - 3s 3ms/step - loss: 0.0017\n",
      "Epoch 99/100\n"
     ]
    },
    {
     "name": "stdout",
     "output_type": "stream",
     "text": [
      "923/923 [==============================] - 3s 3ms/step - loss: 0.0018\n",
      "Epoch 100/100\n",
      "923/923 [==============================] - 3s 3ms/step - loss: 0.0019\n"
     ]
    },
    {
     "data": {
      "text/plain": [
       "<keras.callbacks.callbacks.History at 0x1a3f4c6748>"
      ]
     },
     "execution_count": 183,
     "metadata": {},
     "output_type": "execute_result"
    }
   ],
   "source": [
    "# Compiling the RNN\n",
    "regressor.compile(optimizer = 'adam', loss = 'mean_squared_error')\n",
    "\n",
    "# Fitting the RNN to the Training set\n",
    "regressor.fit(X_train, y_train, epochs = 100, batch_size = 32)"
   ]
  },
  {
   "cell_type": "markdown",
   "metadata": {},
   "source": [
    "#### Making the predictions and visualising the results"
   ]
  },
  {
   "cell_type": "code",
   "execution_count": 184,
   "metadata": {},
   "outputs": [
    {
     "data": {
      "text/plain": [
       "(10, 7)"
      ]
     },
     "execution_count": 184,
     "metadata": {},
     "output_type": "execute_result"
    }
   ],
   "source": [
    "# Getting the real stock price of 2017\n",
    "df_test = pd.read_csv('./data/tcs_test.csv')\n",
    "df_test.head()\n",
    "df_test.shape"
   ]
  },
  {
   "cell_type": "code",
   "execution_count": 185,
   "metadata": {},
   "outputs": [],
   "source": [
    "real_stock_price = df_test.iloc[:, 1:2].values"
   ]
  },
  {
   "cell_type": "code",
   "execution_count": 186,
   "metadata": {},
   "outputs": [],
   "source": [
    "# Getting the predicted stock price \n",
    "df_total = pd.concat((df['Open'], df_test['Open']), axis = 0)\n",
    "inputs = df_total[len(df_total) - len(df_test) - 60:].values\n",
    "inputs = inputs.reshape(-1,1)\n",
    "inputs = sc.transform(inputs)"
   ]
  },
  {
   "cell_type": "code",
   "execution_count": 187,
   "metadata": {},
   "outputs": [],
   "source": [
    "X_test = []\n",
    "for i in range(60, 70):\n",
    "    X_test.append(inputs[i-60:i, 0])\n",
    "X_test = np.array(X_test)\n",
    "X_test = np.reshape(X_test, (X_test.shape[0], X_test.shape[1], 1))"
   ]
  },
  {
   "cell_type": "code",
   "execution_count": 188,
   "metadata": {},
   "outputs": [],
   "source": [
    "predicted_stock_price = regressor.predict(X_test)\n",
    "predicted_stock_price = sc.inverse_transform(predicted_stock_price)"
   ]
  },
  {
   "cell_type": "code",
   "execution_count": 189,
   "metadata": {},
   "outputs": [
    {
     "data": {
      "image/png": "[encoded data removed]",
      "text/plain": [
       "<Figure size 432x288 with 1 Axes>"
      ]
     },
     "metadata": {
      "needs_background": "light"
     },
     "output_type": "display_data"
    }
   ],
   "source": [
    "# Visualising the results\n",
    "plt.plot(real_stock_price, color = 'red', label = 'Real TCS Stock Price')\n",
    "plt.plot(predicted_stock_price, color = 'blue', label = 'Predicted TCS Stock Price')\n",
    "plt.title('TCS Stock Price Prediction')\n",
    "plt.xlabel('Time')\n",
    "plt.ylabel('TCS Stock Price')\n",
    "plt.legend()\n",
    "plt.show()"
   ]
  },
  {
   "cell_type": "code",
   "execution_count": null,
   "metadata": {},
   "outputs": [],
   "source": []
  }
 ],
 "metadata": {
  "kernelspec": {
   "display_name": "Python 3",
   "language": "python",
   "name": "python3"
  },
  "language_info": {
   "codemirror_mode": {
    "name": "ipython",
    "version": 3
   },
   "file_extension": ".py",
   "mimetype": "text/x-python",
   "name": "python",
   "nbconvert_exporter": "python",
   "pygments_lexer": "ipython3",
   "version": "3.7.3"
  }
 },
 "nbformat": 4,
 "nbformat_minor": 2
}
