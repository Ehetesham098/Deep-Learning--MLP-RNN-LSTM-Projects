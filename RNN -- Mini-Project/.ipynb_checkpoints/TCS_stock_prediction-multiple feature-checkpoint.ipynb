{
 "cells": [
  {
   "cell_type": "code",
   "execution_count": 38,
   "metadata": {},
   "outputs": [],
   "source": [
    "# Importing the libraries\n",
    "import numpy as np\n",
    "import matplotlib.pyplot as plt\n",
    "import pandas as pd\n",
    "# Importing the Keras libraries and packages\n",
    "from keras.models import Sequential\n",
    "from keras.layers import Dense\n",
    "from keras.layers import LSTM\n",
    "from keras.layers import Dropout\n",
    "from keras.optimizers import Adam\n",
    "from keras.layers.advanced_activations import LeakyReLU"
   ]
  },
  {
   "cell_type": "code",
   "execution_count": 39,
   "metadata": {},
   "outputs": [
    {
     "data": {
      "text/html": [
       "<div>\n",
       "<style scoped>\n",
       "    .dataframe tbody tr th:only-of-type {\n",
       "        vertical-align: middle;\n",
       "    }\n",
       "\n",
       "    .dataframe tbody tr th {\n",
       "        vertical-align: top;\n",
       "    }\n",
       "\n",
       "    .dataframe thead th {\n",
       "        text-align: right;\n",
       "    }\n",
       "</style>\n",
       "<table border=\"1\" class=\"dataframe\">\n",
       "  <thead>\n",
       "    <tr style=\"text-align: right;\">\n",
       "      <th></th>\n",
       "      <th>Symbol</th>\n",
       "      <th>Series</th>\n",
       "      <th>Date</th>\n",
       "      <th>Prev Close</th>\n",
       "      <th>Open Price</th>\n",
       "      <th>High Price</th>\n",
       "      <th>Low Price</th>\n",
       "      <th>Last Price</th>\n",
       "      <th>Close Price</th>\n",
       "      <th>Average Price</th>\n",
       "      <th>Total Traded Quantity</th>\n",
       "      <th>Turnover</th>\n",
       "      <th>No. of Trades</th>\n",
       "      <th>Deliverable Qty</th>\n",
       "      <th>% Dly Qt to Traded Qty</th>\n",
       "    </tr>\n",
       "  </thead>\n",
       "  <tbody>\n",
       "    <tr>\n",
       "      <td>736</td>\n",
       "      <td>TCS</td>\n",
       "      <td>EQ</td>\n",
       "      <td>25-Nov-2019</td>\n",
       "      <td>2071.70</td>\n",
       "      <td>2074.55</td>\n",
       "      <td>2084.95</td>\n",
       "      <td>2052.20</td>\n",
       "      <td>2083.50</td>\n",
       "      <td>2081.50</td>\n",
       "      <td>2075.63</td>\n",
       "      <td>2737010</td>\n",
       "      <td>5.681025e+09</td>\n",
       "      <td>118827</td>\n",
       "      <td>1562308</td>\n",
       "      <td>57.08</td>\n",
       "    </tr>\n",
       "    <tr>\n",
       "      <td>737</td>\n",
       "      <td>TCS</td>\n",
       "      <td>EQ</td>\n",
       "      <td>26-Nov-2019</td>\n",
       "      <td>2081.50</td>\n",
       "      <td>2089.85</td>\n",
       "      <td>2097.90</td>\n",
       "      <td>2035.05</td>\n",
       "      <td>2046.65</td>\n",
       "      <td>2046.65</td>\n",
       "      <td>2056.29</td>\n",
       "      <td>6561580</td>\n",
       "      <td>1.349252e+10</td>\n",
       "      <td>164453</td>\n",
       "      <td>4970094</td>\n",
       "      <td>75.75</td>\n",
       "    </tr>\n",
       "    <tr>\n",
       "      <td>738</td>\n",
       "      <td>TCS</td>\n",
       "      <td>EQ</td>\n",
       "      <td>27-Nov-2019</td>\n",
       "      <td>2046.65</td>\n",
       "      <td>2052.00</td>\n",
       "      <td>2071.70</td>\n",
       "      <td>2046.55</td>\n",
       "      <td>2055.00</td>\n",
       "      <td>2054.30</td>\n",
       "      <td>2060.49</td>\n",
       "      <td>2907521</td>\n",
       "      <td>5.990930e+09</td>\n",
       "      <td>108988</td>\n",
       "      <td>2020463</td>\n",
       "      <td>69.49</td>\n",
       "    </tr>\n",
       "    <tr>\n",
       "      <td>739</td>\n",
       "      <td>TCS</td>\n",
       "      <td>EQ</td>\n",
       "      <td>28-Nov-2019</td>\n",
       "      <td>2054.30</td>\n",
       "      <td>2067.05</td>\n",
       "      <td>2094.40</td>\n",
       "      <td>2060.00</td>\n",
       "      <td>2075.90</td>\n",
       "      <td>2077.35</td>\n",
       "      <td>2081.33</td>\n",
       "      <td>2924429</td>\n",
       "      <td>6.086707e+09</td>\n",
       "      <td>142488</td>\n",
       "      <td>1651510</td>\n",
       "      <td>56.47</td>\n",
       "    </tr>\n",
       "    <tr>\n",
       "      <td>740</td>\n",
       "      <td>TCS</td>\n",
       "      <td>EQ</td>\n",
       "      <td>29-Nov-2019</td>\n",
       "      <td>2077.35</td>\n",
       "      <td>2085.00</td>\n",
       "      <td>2085.00</td>\n",
       "      <td>2045.80</td>\n",
       "      <td>2051.65</td>\n",
       "      <td>2053.25</td>\n",
       "      <td>2055.87</td>\n",
       "      <td>2064271</td>\n",
       "      <td>4.243880e+09</td>\n",
       "      <td>105237</td>\n",
       "      <td>1200921</td>\n",
       "      <td>58.18</td>\n",
       "    </tr>\n",
       "  </tbody>\n",
       "</table>\n",
       "</div>"
      ],
      "text/plain": [
       "    Symbol Series         Date  Prev Close  Open Price  High Price  Low Price  \\\n",
       "736    TCS     EQ  25-Nov-2019     2071.70     2074.55     2084.95    2052.20   \n",
       "737    TCS     EQ  26-Nov-2019     2081.50     2089.85     2097.90    2035.05   \n",
       "738    TCS     EQ  27-Nov-2019     2046.65     2052.00     2071.70    2046.55   \n",
       "739    TCS     EQ  28-Nov-2019     2054.30     2067.05     2094.40    2060.00   \n",
       "740    TCS     EQ  29-Nov-2019     2077.35     2085.00     2085.00    2045.80   \n",
       "\n",
       "     Last Price  Close Price  Average Price  Total Traded Quantity  \\\n",
       "736     2083.50      2081.50        2075.63                2737010   \n",
       "737     2046.65      2046.65        2056.29                6561580   \n",
       "738     2055.00      2054.30        2060.49                2907521   \n",
       "739     2075.90      2077.35        2081.33                2924429   \n",
       "740     2051.65      2053.25        2055.87                2064271   \n",
       "\n",
       "         Turnover  No. of Trades  Deliverable Qty  % Dly Qt to Traded Qty  \n",
       "736  5.681025e+09         118827          1562308                   57.08  \n",
       "737  1.349252e+10         164453          4970094                   75.75  \n",
       "738  5.990930e+09         108988          2020463                   69.49  \n",
       "739  6.086707e+09         142488          1651510                   56.47  \n",
       "740  4.243880e+09         105237          1200921                   58.18  "
      ]
     },
     "execution_count": 39,
     "metadata": {},
     "output_type": "execute_result"
    }
   ],
   "source": [
    "df1 = pd.read_csv('./data/train_1.csv')\n",
    "df2 = pd.read_csv('./data/train_2.csv')\n",
    "df3 = pd.read_csv('./data/train_3.csv')\n",
    "df=pd.concat((df1,df2,df3),axis=0)\n",
    "df.reset_index(inplace=True,drop=True)\n",
    "df.dropna(inplace=True)\n",
    "df.tail()\n"
   ]
  },
  {
   "cell_type": "code",
   "execution_count": 40,
   "metadata": {},
   "outputs": [
    {
     "data": {
      "text/plain": [
       "(741, 15)"
      ]
     },
     "execution_count": 40,
     "metadata": {},
     "output_type": "execute_result"
    }
   ],
   "source": [
    "df.shape"
   ]
  },
  {
   "cell_type": "markdown",
   "metadata": {},
   "source": [
    "#### Data Preprocessing"
   ]
  },
  {
   "cell_type": "code",
   "execution_count": 118,
   "metadata": {},
   "outputs": [],
   "source": [
    "df_train = df.iloc[:, 4:5].values  #dont loc it returns 1d array\n",
    "df_train1=df.loc[:,['Open Price','Close Price']]"
   ]
  },
  {
   "cell_type": "code",
   "execution_count": 119,
   "metadata": {},
   "outputs": [
    {
     "data": {
      "text/plain": [
       "Text(0.5, 1.0, 'Analyzing Open Average Close Price')"
      ]
     },
     "execution_count": 119,
     "metadata": {},
     "output_type": "execute_result"
    },
    {
     "data": {
      "image/png": "[encoded data removed]",
      "text/plain": [
       "<Figure size 720x576 with 1 Axes>"
      ]
     },
     "metadata": {
      "needs_background": "light"
     },
     "output_type": "display_data"
    }
   ],
   "source": [
    "plt.figure(figsize=(10,8))\n",
    "plt.title('open price')\n",
    "plt.plot(df.loc[0:30,'Open Price'].values ,label='open price')\n",
    "plt.title('Average Price')\n",
    "plt.plot(df.loc[0:30,'Average Price'].values,label='average price')\n",
    "plt.title('Close Price')\n",
    "plt.plot(df.loc[:30,'Close Price'].values,label='close price')\n",
    "plt.legend()\n",
    "plt.title('Analyzing Open Average Close Price')"
   ]
  },
  {
   "cell_type": "code",
   "execution_count": 120,
   "metadata": {},
   "outputs": [],
   "source": [
    "# Feature Scaling\n",
    "from sklearn.preprocessing import MinMaxScaler\n",
    "sc = MinMaxScaler(feature_range = (0, 1))\n",
    "df_train_sc = sc.fit_transform(df_train)\n",
    "df_train_sc1 = sc.fit_transform(df_train1)\n",
    "#df_train_sc1[0]"
   ]
  },
  {
   "cell_type": "code",
   "execution_count": 121,
   "metadata": {},
   "outputs": [],
   "source": [
    "# Creating a data structure with 60 timesteps and 1 output\n",
    "X_train = []\n",
    "y_train = []\n",
    "for i in range(90, 741):\n",
    "    X_train.append(df_train_sc1[i-90:i, :])\n",
    "    y_train.append(df_train_sc1[i, 0])\n",
    "X_train, y_train = np.array(X_train), np.array(y_train)\n",
    "#print(X_train[0])"
   ]
  },
  {
   "cell_type": "code",
   "execution_count": 122,
   "metadata": {},
   "outputs": [
    {
     "data": {
      "text/plain": [
       "((651, 90, 2), (651,))"
      ]
     },
     "execution_count": 122,
     "metadata": {},
     "output_type": "execute_result"
    }
   ],
   "source": [
    "X_train.shape,y_train.shape"
   ]
  },
  {
   "cell_type": "code",
   "execution_count": 123,
   "metadata": {},
   "outputs": [],
   "source": [
    "# Reshaping\n",
    "#X_train = np.reshape(X_train, (X_train.shape[0], X_train.shape[1], 1))\n",
    "#X_train.shape"
   ]
  },
  {
   "cell_type": "code",
   "execution_count": 124,
   "metadata": {},
   "outputs": [],
   "source": [
    "# Initialising the RNN\n",
    "regressor = Sequential()\n",
    "\n",
    "# Adding the first LSTM layer and some Dropout regularisation\n",
    "regressor.add(LSTM(units = 50, return_sequences = True, input_shape = (90, 2)))\n",
    "regressor.add(Dropout(0.2))\n",
    "\n",
    "# # Adding a second LSTM layer and some Dropout regularisation\n",
    "# regressor.add(LSTM(units = 50, return_sequences = True))\n",
    "# regressor.add(Dropout(0.2))\n",
    "\n",
    "# # Adding a third LSTM layer and some Dropout regularisation\n",
    "# regressor.add(LSTM(units = 50, return_sequences = True))\n",
    "# regressor.add(Dropout(0.2))\n",
    "\n",
    "# Adding a fourth LSTM layer and some Dropout regularisation\n",
    "regressor.add(LSTM(units = 50))\n",
    "regressor.add(Dropout(0.2))\n",
    "\n",
    "# Adding the output layer\n",
    "regressor.add(Dense(units = 1))"
   ]
  },
  {
   "cell_type": "code",
   "execution_count": 125,
   "metadata": {},
   "outputs": [],
   "source": [
    "# Compiling the RNN\n",
    "regressor.compile(optimizer = 'adam', loss = 'mean_squared_error')"
   ]
  },
  {
   "cell_type": "code",
   "execution_count": 126,
   "metadata": {},
   "outputs": [
    {
     "name": "stdout",
     "output_type": "stream",
     "text": [
      "Model: \"sequential_6\"\n",
      "_________________________________________________________________\n",
      "Layer (type)                 Output Shape              Param #   \n",
      "=================================================================\n",
      "lstm_11 (LSTM)               (None, 90, 50)            10600     \n",
      "_________________________________________________________________\n",
      "dropout_11 (Dropout)         (None, 90, 50)            0         \n",
      "_________________________________________________________________\n",
      "lstm_12 (LSTM)               (None, 50)                20200     \n",
      "_________________________________________________________________\n",
      "dropout_12 (Dropout)         (None, 50)                0         \n",
      "_________________________________________________________________\n",
      "dense_6 (Dense)              (None, 1)                 51        \n",
      "=================================================================\n",
      "Total params: 30,851\n",
      "Trainable params: 30,851\n",
      "Non-trainable params: 0\n",
      "_________________________________________________________________\n"
     ]
    }
   ],
   "source": [
    "regressor.summary()"
   ]
  },
  {
   "cell_type": "code",
   "execution_count": 127,
   "metadata": {},
   "outputs": [
    {
     "name": "stdout",
     "output_type": "stream",
     "text": [
      "Epoch 1/100\n",
      "651/651 [==============================] - 2s 4ms/step - loss: 0.0412\n",
      "Epoch 2/100\n",
      "651/651 [==============================] - 2s 2ms/step - loss: 0.0125\n",
      "Epoch 3/100\n",
      "651/651 [==============================] - 2s 2ms/step - loss: 0.0098\n",
      "Epoch 4/100\n",
      "651/651 [==============================] - 2s 2ms/step - loss: 0.0100\n",
      "Epoch 5/100\n",
      "651/651 [==============================] - 2s 2ms/step - loss: 0.0082\n",
      "Epoch 6/100\n",
      "651/651 [==============================] - 2s 2ms/step - loss: 0.0072\n",
      "Epoch 7/100\n",
      "651/651 [==============================] - 2s 2ms/step - loss: 0.0072\n",
      "Epoch 8/100\n",
      "651/651 [==============================] - 2s 2ms/step - loss: 0.0070\n",
      "Epoch 9/100\n",
      "651/651 [==============================] - 2s 2ms/step - loss: 0.0065\n",
      "Epoch 10/100\n",
      "651/651 [==============================] - 2s 2ms/step - loss: 0.0061\n",
      "Epoch 11/100\n",
      "651/651 [==============================] - 2s 3ms/step - loss: 0.0066\n",
      "Epoch 12/100\n",
      "651/651 [==============================] - 2s 2ms/step - loss: 0.0062\n",
      "Epoch 13/100\n",
      "651/651 [==============================] - 2s 2ms/step - loss: 0.0056\n",
      "Epoch 14/100\n",
      "651/651 [==============================] - 2s 3ms/step - loss: 0.0061\n",
      "Epoch 15/100\n",
      "651/651 [==============================] - 2s 3ms/step - loss: 0.0049\n",
      "Epoch 16/100\n",
      "651/651 [==============================] - 2s 2ms/step - loss: 0.0060\n",
      "Epoch 17/100\n",
      "651/651 [==============================] - 2s 2ms/step - loss: 0.0051\n",
      "Epoch 18/100\n",
      "651/651 [==============================] - 2s 3ms/step - loss: 0.0055\n",
      "Epoch 19/100\n",
      "651/651 [==============================] - 2s 2ms/step - loss: 0.0055\n",
      "Epoch 20/100\n",
      "651/651 [==============================] - 2s 2ms/step - loss: 0.0049\n",
      "Epoch 21/100\n",
      "651/651 [==============================] - 2s 3ms/step - loss: 0.0047\n",
      "Epoch 22/100\n",
      "651/651 [==============================] - 2s 2ms/step - loss: 0.0041\n",
      "Epoch 23/100\n",
      "651/651 [==============================] - 2s 3ms/step - loss: 0.0052\n",
      "Epoch 24/100\n",
      "651/651 [==============================] - 2s 3ms/step - loss: 0.0039\n",
      "Epoch 25/100\n",
      "651/651 [==============================] - 2s 2ms/step - loss: 0.0046\n",
      "Epoch 26/100\n",
      "651/651 [==============================] - 2s 2ms/step - loss: 0.0050\n",
      "Epoch 27/100\n",
      "651/651 [==============================] - 2s 2ms/step - loss: 0.0040\n",
      "Epoch 28/100\n",
      "651/651 [==============================] - 2s 3ms/step - loss: 0.0044\n",
      "Epoch 29/100\n",
      "651/651 [==============================] - 2s 2ms/step - loss: 0.0038\n",
      "Epoch 30/100\n",
      "651/651 [==============================] - 2s 2ms/step - loss: 0.0047\n",
      "Epoch 31/100\n",
      "651/651 [==============================] - 1s 2ms/step - loss: 0.0038\n",
      "Epoch 32/100\n",
      "651/651 [==============================] - 2s 2ms/step - loss: 0.0036\n",
      "Epoch 33/100\n",
      "651/651 [==============================] - 2s 2ms/step - loss: 0.0039\n",
      "Epoch 34/100\n",
      "651/651 [==============================] - 2s 2ms/step - loss: 0.0039\n",
      "Epoch 35/100\n",
      "651/651 [==============================] - 2s 2ms/step - loss: 0.0046\n",
      "Epoch 36/100\n",
      "651/651 [==============================] - 2s 2ms/step - loss: 0.0041\n",
      "Epoch 37/100\n",
      "651/651 [==============================] - 1s 2ms/step - loss: 0.0031\n",
      "Epoch 38/100\n",
      "651/651 [==============================] - 2s 2ms/step - loss: 0.0035\n",
      "Epoch 39/100\n",
      "651/651 [==============================] - 2s 2ms/step - loss: 0.0038\n",
      "Epoch 40/100\n",
      "651/651 [==============================] - 2s 2ms/step - loss: 0.0039\n",
      "Epoch 41/100\n",
      "651/651 [==============================] - 2s 2ms/step - loss: 0.0039\n",
      "Epoch 42/100\n",
      "651/651 [==============================] - 2s 2ms/step - loss: 0.0039\n",
      "Epoch 43/100\n",
      "651/651 [==============================] - 2s 2ms/step - loss: 0.0036\n",
      "Epoch 44/100\n",
      "651/651 [==============================] - 2s 3ms/step - loss: 0.0036\n",
      "Epoch 45/100\n",
      "651/651 [==============================] - 2s 2ms/step - loss: 0.0034\n",
      "Epoch 46/100\n",
      "651/651 [==============================] - 2s 2ms/step - loss: 0.0038\n",
      "Epoch 47/100\n",
      "651/651 [==============================] - 2s 3ms/step - loss: 0.0030\n",
      "Epoch 48/100\n",
      "651/651 [==============================] - 2s 2ms/step - loss: 0.0030\n",
      "Epoch 49/100\n",
      "651/651 [==============================] - 2s 2ms/step - loss: 0.0033\n",
      "Epoch 50/100\n",
      "651/651 [==============================] - 2s 2ms/step - loss: 0.0034\n",
      "Epoch 51/100\n",
      "651/651 [==============================] - 2s 2ms/step - loss: 0.0032\n",
      "Epoch 52/100\n",
      "651/651 [==============================] - 2s 3ms/step - loss: 0.0028\n",
      "Epoch 53/100\n",
      "651/651 [==============================] - 2s 3ms/step - loss: 0.0035\n",
      "Epoch 54/100\n",
      "651/651 [==============================] - 2s 2ms/step - loss: 0.0034\n",
      "Epoch 55/100\n",
      "651/651 [==============================] - 2s 2ms/step - loss: 0.0034\n",
      "Epoch 56/100\n",
      "651/651 [==============================] - 2s 2ms/step - loss: 0.0033\n",
      "Epoch 57/100\n",
      "651/651 [==============================] - 2s 3ms/step - loss: 0.0036\n",
      "Epoch 58/100\n",
      "651/651 [==============================] - 2s 3ms/step - loss: 0.0032\n",
      "Epoch 59/100\n",
      "651/651 [==============================] - 2s 2ms/step - loss: 0.0032\n",
      "Epoch 60/100\n",
      "651/651 [==============================] - 2s 3ms/step - loss: 0.0032\n",
      "Epoch 61/100\n",
      "651/651 [==============================] - 2s 2ms/step - loss: 0.0029\n",
      "Epoch 62/100\n",
      "651/651 [==============================] - 2s 2ms/step - loss: 0.0030\n",
      "Epoch 63/100\n",
      "651/651 [==============================] - 2s 2ms/step - loss: 0.0027\n",
      "Epoch 64/100\n",
      "651/651 [==============================] - 2s 2ms/step - loss: 0.0034\n",
      "Epoch 65/100\n",
      "651/651 [==============================] - 2s 2ms/step - loss: 0.0037\n",
      "Epoch 66/100\n",
      "651/651 [==============================] - 2s 2ms/step - loss: 0.0028\n",
      "Epoch 67/100\n",
      "651/651 [==============================] - 2s 2ms/step - loss: 0.0029\n",
      "Epoch 68/100\n",
      "651/651 [==============================] - 2s 2ms/step - loss: 0.0027\n",
      "Epoch 69/100\n",
      "651/651 [==============================] - 2s 2ms/step - loss: 0.0030\n",
      "Epoch 70/100\n",
      "651/651 [==============================] - 2s 2ms/step - loss: 0.0036\n",
      "Epoch 71/100\n",
      "651/651 [==============================] - 2s 2ms/step - loss: 0.0026\n",
      "Epoch 72/100\n",
      "651/651 [==============================] - 2s 2ms/step - loss: 0.0030\n",
      "Epoch 73/100\n",
      "651/651 [==============================] - 2s 2ms/step - loss: 0.0029\n",
      "Epoch 74/100\n",
      "651/651 [==============================] - 2s 2ms/step - loss: 0.0026\n",
      "Epoch 75/100\n",
      "651/651 [==============================] - 2s 2ms/step - loss: 0.0034\n",
      "Epoch 76/100\n",
      "651/651 [==============================] - 2s 2ms/step - loss: 0.0034\n",
      "Epoch 77/100\n",
      "651/651 [==============================] - 1s 2ms/step - loss: 0.0029\n",
      "Epoch 78/100\n",
      "651/651 [==============================] - 2s 2ms/step - loss: 0.0030\n",
      "Epoch 79/100\n",
      "651/651 [==============================] - 2s 2ms/step - loss: 0.0025\n",
      "Epoch 80/100\n",
      "651/651 [==============================] - 2s 2ms/step - loss: 0.0025\n",
      "Epoch 81/100\n",
      "651/651 [==============================] - 2s 2ms/step - loss: 0.0024\n",
      "Epoch 82/100\n",
      "651/651 [==============================] - 2s 2ms/step - loss: 0.0022\n",
      "Epoch 83/100\n",
      "651/651 [==============================] - 2s 2ms/step - loss: 0.0025\n",
      "Epoch 84/100\n",
      "651/651 [==============================] - 2s 2ms/step - loss: 0.0024\n",
      "Epoch 85/100\n",
      "651/651 [==============================] - 2s 2ms/step - loss: 0.0026\n",
      "Epoch 86/100\n",
      "651/651 [==============================] - 2s 2ms/step - loss: 0.0027\n",
      "Epoch 87/100\n",
      "651/651 [==============================] - 2s 2ms/step - loss: 0.0029\n",
      "Epoch 88/100\n",
      "651/651 [==============================] - 2s 2ms/step - loss: 0.0020\n",
      "Epoch 89/100\n",
      "651/651 [==============================] - 2s 2ms/step - loss: 0.0023\n",
      "Epoch 90/100\n",
      "651/651 [==============================] - 2s 2ms/step - loss: 0.0027\n",
      "Epoch 91/100\n",
      "651/651 [==============================] - 2s 2ms/step - loss: 0.0026\n",
      "Epoch 92/100\n",
      "651/651 [==============================] - 2s 2ms/step - loss: 0.0024\n",
      "Epoch 93/100\n",
      "651/651 [==============================] - 2s 2ms/step - loss: 0.0029\n",
      "Epoch 94/100\n",
      "651/651 [==============================] - 2s 2ms/step - loss: 0.0026\n",
      "Epoch 95/100\n",
      "651/651 [==============================] - 2s 2ms/step - loss: 0.0023\n",
      "Epoch 96/100\n",
      "651/651 [==============================] - 2s 2ms/step - loss: 0.0020\n",
      "Epoch 97/100\n",
      "651/651 [==============================] - 2s 2ms/step - loss: 0.0026\n",
      "Epoch 98/100\n",
      "651/651 [==============================] - 1s 2ms/step - loss: 0.0024\n",
      "Epoch 99/100\n"
     ]
    },
    {
     "name": "stdout",
     "output_type": "stream",
     "text": [
      "651/651 [==============================] - 1s 2ms/step - loss: 0.0028\n",
      "Epoch 100/100\n",
      "651/651 [==============================] - 2s 2ms/step - loss: 0.0039\n"
     ]
    },
    {
     "data": {
      "text/plain": [
       "<keras.callbacks.callbacks.History at 0x1a404c9ac8>"
      ]
     },
     "execution_count": 127,
     "metadata": {},
     "output_type": "execute_result"
    }
   ],
   "source": [
    "\n",
    "# Fitting the RNN to the Training set\n",
    "regressor.fit(X_train, y_train, epochs = 100, batch_size = 32)"
   ]
  },
  {
   "cell_type": "markdown",
   "metadata": {},
   "source": [
    "#### Making the predictions and visualising the results"
   ]
  },
  {
   "cell_type": "code",
   "execution_count": 128,
   "metadata": {},
   "outputs": [
    {
     "data": {
      "text/html": [
       "<div>\n",
       "<style scoped>\n",
       "    .dataframe tbody tr th:only-of-type {\n",
       "        vertical-align: middle;\n",
       "    }\n",
       "\n",
       "    .dataframe tbody tr th {\n",
       "        vertical-align: top;\n",
       "    }\n",
       "\n",
       "    .dataframe thead th {\n",
       "        text-align: right;\n",
       "    }\n",
       "</style>\n",
       "<table border=\"1\" class=\"dataframe\">\n",
       "  <thead>\n",
       "    <tr style=\"text-align: right;\">\n",
       "      <th></th>\n",
       "      <th>Symbol</th>\n",
       "      <th>Series</th>\n",
       "      <th>Date</th>\n",
       "      <th>Prev Close</th>\n",
       "      <th>Open Price</th>\n",
       "      <th>High Price</th>\n",
       "      <th>Low Price</th>\n",
       "      <th>Last Price</th>\n",
       "      <th>Close Price</th>\n",
       "      <th>Average Price</th>\n",
       "      <th>Total Traded Quantity</th>\n",
       "      <th>Turnover</th>\n",
       "      <th>No. of Trades</th>\n",
       "      <th>Deliverable Qty</th>\n",
       "      <th>% Dly Qt to Traded Qty</th>\n",
       "    </tr>\n",
       "  </thead>\n",
       "  <tbody>\n",
       "    <tr>\n",
       "      <td>22</td>\n",
       "      <td>TCS</td>\n",
       "      <td>EQ</td>\n",
       "      <td>02-Jan-2020</td>\n",
       "      <td>2167.60</td>\n",
       "      <td>2179.95</td>\n",
       "      <td>2179.95</td>\n",
       "      <td>2149.20</td>\n",
       "      <td>2157.00</td>\n",
       "      <td>2157.65</td>\n",
       "      <td>2158.63</td>\n",
       "      <td>2380752</td>\n",
       "      <td>5.139156e+09</td>\n",
       "      <td>99242</td>\n",
       "      <td>1204079</td>\n",
       "      <td>50.58</td>\n",
       "    </tr>\n",
       "    <tr>\n",
       "      <td>23</td>\n",
       "      <td>TCS</td>\n",
       "      <td>EQ</td>\n",
       "      <td>03-Jan-2020</td>\n",
       "      <td>2157.65</td>\n",
       "      <td>2164.00</td>\n",
       "      <td>2223.00</td>\n",
       "      <td>2164.00</td>\n",
       "      <td>2201.00</td>\n",
       "      <td>2200.65</td>\n",
       "      <td>2199.26</td>\n",
       "      <td>4655761</td>\n",
       "      <td>1.023921e+10</td>\n",
       "      <td>123516</td>\n",
       "      <td>1833823</td>\n",
       "      <td>39.39</td>\n",
       "    </tr>\n",
       "    <tr>\n",
       "      <td>24</td>\n",
       "      <td>TCS</td>\n",
       "      <td>EQ</td>\n",
       "      <td>06-Jan-2020</td>\n",
       "      <td>2200.65</td>\n",
       "      <td>2205.00</td>\n",
       "      <td>2225.95</td>\n",
       "      <td>2187.90</td>\n",
       "      <td>2201.35</td>\n",
       "      <td>2200.45</td>\n",
       "      <td>2204.89</td>\n",
       "      <td>3023209</td>\n",
       "      <td>6.665855e+09</td>\n",
       "      <td>135360</td>\n",
       "      <td>1000021</td>\n",
       "      <td>33.08</td>\n",
       "    </tr>\n",
       "    <tr>\n",
       "      <td>25</td>\n",
       "      <td>TCS</td>\n",
       "      <td>EQ</td>\n",
       "      <td>07-Jan-2020</td>\n",
       "      <td>2200.45</td>\n",
       "      <td>2200.50</td>\n",
       "      <td>2214.65</td>\n",
       "      <td>2183.80</td>\n",
       "      <td>2205.00</td>\n",
       "      <td>2205.85</td>\n",
       "      <td>2203.53</td>\n",
       "      <td>2429317</td>\n",
       "      <td>5.353064e+09</td>\n",
       "      <td>95018</td>\n",
       "      <td>966753</td>\n",
       "      <td>39.80</td>\n",
       "    </tr>\n",
       "    <tr>\n",
       "      <td>26</td>\n",
       "      <td>TCS</td>\n",
       "      <td>EQ</td>\n",
       "      <td>08-Jan-2020</td>\n",
       "      <td>2205.85</td>\n",
       "      <td>2205.00</td>\n",
       "      <td>2260.00</td>\n",
       "      <td>2202.05</td>\n",
       "      <td>2253.35</td>\n",
       "      <td>2255.25</td>\n",
       "      <td>2240.22</td>\n",
       "      <td>5197454</td>\n",
       "      <td>1.164342e+10</td>\n",
       "      <td>172815</td>\n",
       "      <td>2288411</td>\n",
       "      <td>44.03</td>\n",
       "    </tr>\n",
       "  </tbody>\n",
       "</table>\n",
       "</div>"
      ],
      "text/plain": [
       "   Symbol Series         Date  Prev Close  Open Price  High Price  Low Price  \\\n",
       "22    TCS     EQ  02-Jan-2020     2167.60     2179.95     2179.95    2149.20   \n",
       "23    TCS     EQ  03-Jan-2020     2157.65     2164.00     2223.00    2164.00   \n",
       "24    TCS     EQ  06-Jan-2020     2200.65     2205.00     2225.95    2187.90   \n",
       "25    TCS     EQ  07-Jan-2020     2200.45     2200.50     2214.65    2183.80   \n",
       "26    TCS     EQ  08-Jan-2020     2205.85     2205.00     2260.00    2202.05   \n",
       "\n",
       "    Last Price  Close Price  Average Price  Total Traded Quantity  \\\n",
       "22     2157.00      2157.65        2158.63                2380752   \n",
       "23     2201.00      2200.65        2199.26                4655761   \n",
       "24     2201.35      2200.45        2204.89                3023209   \n",
       "25     2205.00      2205.85        2203.53                2429317   \n",
       "26     2253.35      2255.25        2240.22                5197454   \n",
       "\n",
       "        Turnover  No. of Trades  Deliverable Qty  % Dly Qt to Traded Qty  \n",
       "22  5.139156e+09          99242          1204079                   50.58  \n",
       "23  1.023921e+10         123516          1833823                   39.39  \n",
       "24  6.665855e+09         135360          1000021                   33.08  \n",
       "25  5.353064e+09          95018           966753                   39.80  \n",
       "26  1.164342e+10         172815          2288411                   44.03  "
      ]
     },
     "execution_count": 128,
     "metadata": {},
     "output_type": "execute_result"
    }
   ],
   "source": [
    "# Getting the real stock price of 2017\n",
    "df_test = pd.read_csv('./data/tcs_test1.csv')\n",
    "df_test.tail()\n",
    "#df_test.shape"
   ]
  },
  {
   "cell_type": "code",
   "execution_count": 129,
   "metadata": {},
   "outputs": [],
   "source": [
    "real_stock_price = df_test.iloc[:, 4:5].values"
   ]
  },
  {
   "cell_type": "code",
   "execution_count": 130,
   "metadata": {},
   "outputs": [],
   "source": [
    "# Getting the predicted stock price \n",
    "df_total = pd.concat((df.loc[:,['Open Price','Close Price']], df_test.loc[:,['Open Price','Close Price']]), axis = 0)\n",
    "inputs = df_total[len(df_total) - len(df_test) - 90:].values\n",
    "#inputs = inputs.reshape(-1,1)\n",
    "inputs = sc.transform(inputs)"
   ]
  },
  {
   "cell_type": "code",
   "execution_count": 131,
   "metadata": {},
   "outputs": [
    {
     "data": {
      "text/plain": [
       "((117, 2), (768, 2))"
      ]
     },
     "execution_count": 131,
     "metadata": {},
     "output_type": "execute_result"
    }
   ],
   "source": [
    "inputs.shape,df_total.shape"
   ]
  },
  {
   "cell_type": "code",
   "execution_count": 132,
   "metadata": {},
   "outputs": [],
   "source": [
    "X_test = []\n",
    "for i in range(90, 117):\n",
    "    X_test.append(inputs[i-90:i,: ])\n",
    "X_test = np.array(X_test)\n",
    "#X_test = np.reshape(X_test, (X_test.shape[0], X_test.shape[1], 1))"
   ]
  },
  {
   "cell_type": "code",
   "execution_count": 133,
   "metadata": {},
   "outputs": [
    {
     "data": {
      "text/plain": [
       "(27, 90, 2)"
      ]
     },
     "execution_count": 133,
     "metadata": {},
     "output_type": "execute_result"
    }
   ],
   "source": [
    "X_test.shape"
   ]
  },
  {
   "cell_type": "code",
   "execution_count": 134,
   "metadata": {},
   "outputs": [],
   "source": [
    "predicted_stock_price = regressor.predict(X_test)\n",
    "#predicted_stock_price"
   ]
  },
  {
   "cell_type": "code",
   "execution_count": 135,
   "metadata": {},
   "outputs": [],
   "source": [
    "trainPredict_dataset_like = np.zeros(shape=(len(predicted_stock_price), 2) )\n",
    "trainPredict_dataset_like[:,0] = predicted_stock_price[:,0]"
   ]
  },
  {
   "cell_type": "code",
   "execution_count": 136,
   "metadata": {},
   "outputs": [],
   "source": [
    "predicted_stock_price = sc.inverse_transform(trainPredict_dataset_like)[:,0]"
   ]
  },
  {
   "cell_type": "code",
   "execution_count": 137,
   "metadata": {},
   "outputs": [
    {
     "data": {
      "text/plain": [
       "array([2069.09435666, 2061.27661037, 2053.77331868, 2057.88889009,\n",
       "       2076.7317344 , 2100.60392481, 2106.29885465, 2084.32472855,\n",
       "       2061.48512253, 2046.29910588, 2043.63030899, 2067.52429441,\n",
       "       2103.90287793, 2140.09162667, 2176.19138151, 2204.24112731,\n",
       "       2218.67010057, 2224.33067989, 2217.55217838, 2206.95623505,\n",
       "       2195.73495364, 2181.26134172, 2169.30841136, 2163.11721295,\n",
       "       2167.2810508 , 2180.39965963, 2191.97685999])"
      ]
     },
     "execution_count": 137,
     "metadata": {},
     "output_type": "execute_result"
    }
   ],
   "source": [
    "predicted_stock_price"
   ]
  },
  {
   "cell_type": "code",
   "execution_count": 138,
   "metadata": {},
   "outputs": [
    {
     "data": {
      "image/png": "[encoded data removed]",
      "text/plain": [
       "<Figure size 432x288 with 1 Axes>"
      ]
     },
     "metadata": {
      "needs_background": "light"
     },
     "output_type": "display_data"
    }
   ],
   "source": [
    "# Visualising the results\n",
    "plt.plot(real_stock_price, color = 'red', label = 'Real TCS Stock Price')\n",
    "plt.plot(predicted_stock_price, color = 'blue', label = 'Predicted TCS Stock Price')\n",
    "plt.title('TCS Stock Price Prediction')\n",
    "plt.xlabel('Time')\n",
    "plt.ylabel('TCS Stock Price')\n",
    "plt.legend()\n",
    "plt.show()"
   ]
  },
  {
   "cell_type": "code",
   "execution_count": 139,
   "metadata": {},
   "outputs": [
    {
     "data": {
      "text/html": [
       "<div>\n",
       "<style scoped>\n",
       "    .dataframe tbody tr th:only-of-type {\n",
       "        vertical-align: middle;\n",
       "    }\n",
       "\n",
       "    .dataframe tbody tr th {\n",
       "        vertical-align: top;\n",
       "    }\n",
       "\n",
       "    .dataframe thead th {\n",
       "        text-align: right;\n",
       "    }\n",
       "</style>\n",
       "<table border=\"1\" class=\"dataframe\">\n",
       "  <thead>\n",
       "    <tr style=\"text-align: right;\">\n",
       "      <th></th>\n",
       "      <th>real</th>\n",
       "      <th>predicted</th>\n",
       "    </tr>\n",
       "  </thead>\n",
       "  <tbody>\n",
       "    <tr>\n",
       "      <td>0</td>\n",
       "      <td>2060.00</td>\n",
       "      <td>2069.094357</td>\n",
       "    </tr>\n",
       "    <tr>\n",
       "      <td>1</td>\n",
       "      <td>2027.70</td>\n",
       "      <td>2061.276610</td>\n",
       "    </tr>\n",
       "    <tr>\n",
       "      <td>2</td>\n",
       "      <td>2053.00</td>\n",
       "      <td>2053.773319</td>\n",
       "    </tr>\n",
       "    <tr>\n",
       "      <td>3</td>\n",
       "      <td>2083.00</td>\n",
       "      <td>2057.888890</td>\n",
       "    </tr>\n",
       "    <tr>\n",
       "      <td>4</td>\n",
       "      <td>2124.00</td>\n",
       "      <td>2076.731734</td>\n",
       "    </tr>\n",
       "    <tr>\n",
       "      <td>5</td>\n",
       "      <td>2127.95</td>\n",
       "      <td>2100.603925</td>\n",
       "    </tr>\n",
       "    <tr>\n",
       "      <td>6</td>\n",
       "      <td>2060.00</td>\n",
       "      <td>2106.298855</td>\n",
       "    </tr>\n",
       "    <tr>\n",
       "      <td>7</td>\n",
       "      <td>2025.40</td>\n",
       "      <td>2084.324729</td>\n",
       "    </tr>\n",
       "    <tr>\n",
       "      <td>8</td>\n",
       "      <td>2051.10</td>\n",
       "      <td>2061.485123</td>\n",
       "    </tr>\n",
       "    <tr>\n",
       "      <td>9</td>\n",
       "      <td>2023.00</td>\n",
       "      <td>2046.299106</td>\n",
       "    </tr>\n",
       "    <tr>\n",
       "      <td>10</td>\n",
       "      <td>2096.00</td>\n",
       "      <td>2043.630309</td>\n",
       "    </tr>\n",
       "    <tr>\n",
       "      <td>11</td>\n",
       "      <td>2126.50</td>\n",
       "      <td>2067.524294</td>\n",
       "    </tr>\n",
       "    <tr>\n",
       "      <td>12</td>\n",
       "      <td>2174.00</td>\n",
       "      <td>2103.902878</td>\n",
       "    </tr>\n",
       "    <tr>\n",
       "      <td>13</td>\n",
       "      <td>2179.80</td>\n",
       "      <td>2140.091627</td>\n",
       "    </tr>\n",
       "    <tr>\n",
       "      <td>14</td>\n",
       "      <td>2220.00</td>\n",
       "      <td>2176.191382</td>\n",
       "    </tr>\n",
       "    <tr>\n",
       "      <td>15</td>\n",
       "      <td>2210.00</td>\n",
       "      <td>2204.241127</td>\n",
       "    </tr>\n",
       "    <tr>\n",
       "      <td>16</td>\n",
       "      <td>2239.00</td>\n",
       "      <td>2218.670101</td>\n",
       "    </tr>\n",
       "    <tr>\n",
       "      <td>17</td>\n",
       "      <td>2216.40</td>\n",
       "      <td>2224.330680</td>\n",
       "    </tr>\n",
       "    <tr>\n",
       "      <td>18</td>\n",
       "      <td>2208.00</td>\n",
       "      <td>2217.552178</td>\n",
       "    </tr>\n",
       "    <tr>\n",
       "      <td>19</td>\n",
       "      <td>2207.00</td>\n",
       "      <td>2206.956235</td>\n",
       "    </tr>\n",
       "    <tr>\n",
       "      <td>20</td>\n",
       "      <td>2189.00</td>\n",
       "      <td>2195.734954</td>\n",
       "    </tr>\n",
       "    <tr>\n",
       "      <td>21</td>\n",
       "      <td>2168.00</td>\n",
       "      <td>2181.261342</td>\n",
       "    </tr>\n",
       "    <tr>\n",
       "      <td>22</td>\n",
       "      <td>2179.95</td>\n",
       "      <td>2169.308411</td>\n",
       "    </tr>\n",
       "    <tr>\n",
       "      <td>23</td>\n",
       "      <td>2164.00</td>\n",
       "      <td>2163.117213</td>\n",
       "    </tr>\n",
       "    <tr>\n",
       "      <td>24</td>\n",
       "      <td>2205.00</td>\n",
       "      <td>2167.281051</td>\n",
       "    </tr>\n",
       "    <tr>\n",
       "      <td>25</td>\n",
       "      <td>2200.50</td>\n",
       "      <td>2180.399660</td>\n",
       "    </tr>\n",
       "    <tr>\n",
       "      <td>26</td>\n",
       "      <td>2205.00</td>\n",
       "      <td>2191.976860</td>\n",
       "    </tr>\n",
       "  </tbody>\n",
       "</table>\n",
       "</div>"
      ],
      "text/plain": [
       "       real    predicted\n",
       "0   2060.00  2069.094357\n",
       "1   2027.70  2061.276610\n",
       "2   2053.00  2053.773319\n",
       "3   2083.00  2057.888890\n",
       "4   2124.00  2076.731734\n",
       "5   2127.95  2100.603925\n",
       "6   2060.00  2106.298855\n",
       "7   2025.40  2084.324729\n",
       "8   2051.10  2061.485123\n",
       "9   2023.00  2046.299106\n",
       "10  2096.00  2043.630309\n",
       "11  2126.50  2067.524294\n",
       "12  2174.00  2103.902878\n",
       "13  2179.80  2140.091627\n",
       "14  2220.00  2176.191382\n",
       "15  2210.00  2204.241127\n",
       "16  2239.00  2218.670101\n",
       "17  2216.40  2224.330680\n",
       "18  2208.00  2217.552178\n",
       "19  2207.00  2206.956235\n",
       "20  2189.00  2195.734954\n",
       "21  2168.00  2181.261342\n",
       "22  2179.95  2169.308411\n",
       "23  2164.00  2163.117213\n",
       "24  2205.00  2167.281051\n",
       "25  2200.50  2180.399660\n",
       "26  2205.00  2191.976860"
      ]
     },
     "execution_count": 139,
     "metadata": {},
     "output_type": "execute_result"
    }
   ],
   "source": [
    "pd.DataFrame({'real':real_stock_price.flatten(),'predicted':predicted_stock_price.flatten()})"
   ]
  },
  {
   "cell_type": "code",
   "execution_count": null,
   "metadata": {},
   "outputs": [],
   "source": []
  }
 ],
 "metadata": {
  "kernelspec": {
   "display_name": "Python 3",
   "language": "python",
   "name": "python3"
  },
  "language_info": {
   "codemirror_mode": {
    "name": "ipython",
    "version": 3
   },
   "file_extension": ".py",
   "mimetype": "text/x-python",
   "name": "python",
   "nbconvert_exporter": "python",
   "pygments_lexer": "ipython3",
   "version": "3.7.3"
  },
  "varInspector": {
   "cols": {
    "lenName": 16,
    "lenType": 16,
    "lenVar": 40
   },
   "kernels_config": {
    "python": {
     "delete_cmd_postfix": "",
     "delete_cmd_prefix": "del ",
     "library": "var_list.py",
     "varRefreshCmd": "print(var_dic_list())"
    },
    "r": {
     "delete_cmd_postfix": ") ",
     "delete_cmd_prefix": "rm(",
     "library": "var_list.r",
     "varRefreshCmd": "cat(var_dic_list()) "
    }
   },
   "types_to_exclude": [
    "module",
    "function",
    "builtin_function_or_method",
    "instance",
    "_Feature"
   ],
   "window_display": false
  }
 },
 "nbformat": 4,
 "nbformat_minor": 2
}
