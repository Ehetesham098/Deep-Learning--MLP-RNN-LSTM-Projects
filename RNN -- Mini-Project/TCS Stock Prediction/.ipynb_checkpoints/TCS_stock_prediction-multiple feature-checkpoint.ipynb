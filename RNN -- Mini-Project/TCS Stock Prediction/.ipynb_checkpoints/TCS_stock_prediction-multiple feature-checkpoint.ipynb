{
 "cells": [
  {
   "cell_type": "markdown",
   "metadata": {},
   "source": [
    "### TCS_stock_prediction\n",
    "In this notebook we will predict tcs stock price using LSTM on Open price and Close price"
   ]
  },
  {
   "cell_type": "code",
   "execution_count": 1,
   "metadata": {},
   "outputs": [
    {
     "name": "stderr",
     "output_type": "stream",
     "text": [
      "Using TensorFlow backend.\n"
     ]
    }
   ],
   "source": [
    "# Importing the libraries\n",
    "import numpy as np\n",
    "import matplotlib.pyplot as plt\n",
    "import pandas as pd\n",
    "# Importing the Keras libraries and packages\n",
    "from keras.models import Sequential\n",
    "from keras.layers import Dense\n",
    "from keras.layers import LSTM\n",
    "from keras.layers import Dropout\n",
    "from keras.optimizers import Adam\n",
    "from keras.layers.advanced_activations import LeakyReLU"
   ]
  },
  {
   "cell_type": "code",
   "execution_count": 2,
   "metadata": {},
   "outputs": [
    {
     "data": {
      "text/html": [
       "<div>\n",
       "<style scoped>\n",
       "    .dataframe tbody tr th:only-of-type {\n",
       "        vertical-align: middle;\n",
       "    }\n",
       "\n",
       "    .dataframe tbody tr th {\n",
       "        vertical-align: top;\n",
       "    }\n",
       "\n",
       "    .dataframe thead th {\n",
       "        text-align: right;\n",
       "    }\n",
       "</style>\n",
       "<table border=\"1\" class=\"dataframe\">\n",
       "  <thead>\n",
       "    <tr style=\"text-align: right;\">\n",
       "      <th></th>\n",
       "      <th>Symbol</th>\n",
       "      <th>Series</th>\n",
       "      <th>Date</th>\n",
       "      <th>Prev Close</th>\n",
       "      <th>Open Price</th>\n",
       "      <th>High Price</th>\n",
       "      <th>Low Price</th>\n",
       "      <th>Last Price</th>\n",
       "      <th>Close Price</th>\n",
       "      <th>Average Price</th>\n",
       "      <th>Total Traded Quantity</th>\n",
       "      <th>Turnover</th>\n",
       "      <th>No. of Trades</th>\n",
       "      <th>Deliverable Qty</th>\n",
       "      <th>% Dly Qt to Traded Qty</th>\n",
       "    </tr>\n",
       "  </thead>\n",
       "  <tbody>\n",
       "    <tr>\n",
       "      <td>736</td>\n",
       "      <td>TCS</td>\n",
       "      <td>EQ</td>\n",
       "      <td>25-Nov-2019</td>\n",
       "      <td>2071.70</td>\n",
       "      <td>2074.55</td>\n",
       "      <td>2084.95</td>\n",
       "      <td>2052.20</td>\n",
       "      <td>2083.50</td>\n",
       "      <td>2081.50</td>\n",
       "      <td>2075.63</td>\n",
       "      <td>2737010</td>\n",
       "      <td>5.681025e+09</td>\n",
       "      <td>118827</td>\n",
       "      <td>1562308</td>\n",
       "      <td>57.08</td>\n",
       "    </tr>\n",
       "    <tr>\n",
       "      <td>737</td>\n",
       "      <td>TCS</td>\n",
       "      <td>EQ</td>\n",
       "      <td>26-Nov-2019</td>\n",
       "      <td>2081.50</td>\n",
       "      <td>2089.85</td>\n",
       "      <td>2097.90</td>\n",
       "      <td>2035.05</td>\n",
       "      <td>2046.65</td>\n",
       "      <td>2046.65</td>\n",
       "      <td>2056.29</td>\n",
       "      <td>6561580</td>\n",
       "      <td>1.349252e+10</td>\n",
       "      <td>164453</td>\n",
       "      <td>4970094</td>\n",
       "      <td>75.75</td>\n",
       "    </tr>\n",
       "    <tr>\n",
       "      <td>738</td>\n",
       "      <td>TCS</td>\n",
       "      <td>EQ</td>\n",
       "      <td>27-Nov-2019</td>\n",
       "      <td>2046.65</td>\n",
       "      <td>2052.00</td>\n",
       "      <td>2071.70</td>\n",
       "      <td>2046.55</td>\n",
       "      <td>2055.00</td>\n",
       "      <td>2054.30</td>\n",
       "      <td>2060.49</td>\n",
       "      <td>2907521</td>\n",
       "      <td>5.990930e+09</td>\n",
       "      <td>108988</td>\n",
       "      <td>2020463</td>\n",
       "      <td>69.49</td>\n",
       "    </tr>\n",
       "    <tr>\n",
       "      <td>739</td>\n",
       "      <td>TCS</td>\n",
       "      <td>EQ</td>\n",
       "      <td>28-Nov-2019</td>\n",
       "      <td>2054.30</td>\n",
       "      <td>2067.05</td>\n",
       "      <td>2094.40</td>\n",
       "      <td>2060.00</td>\n",
       "      <td>2075.90</td>\n",
       "      <td>2077.35</td>\n",
       "      <td>2081.33</td>\n",
       "      <td>2924429</td>\n",
       "      <td>6.086707e+09</td>\n",
       "      <td>142488</td>\n",
       "      <td>1651510</td>\n",
       "      <td>56.47</td>\n",
       "    </tr>\n",
       "    <tr>\n",
       "      <td>740</td>\n",
       "      <td>TCS</td>\n",
       "      <td>EQ</td>\n",
       "      <td>29-Nov-2019</td>\n",
       "      <td>2077.35</td>\n",
       "      <td>2085.00</td>\n",
       "      <td>2085.00</td>\n",
       "      <td>2045.80</td>\n",
       "      <td>2051.65</td>\n",
       "      <td>2053.25</td>\n",
       "      <td>2055.87</td>\n",
       "      <td>2064271</td>\n",
       "      <td>4.243880e+09</td>\n",
       "      <td>105237</td>\n",
       "      <td>1200921</td>\n",
       "      <td>58.18</td>\n",
       "    </tr>\n",
       "  </tbody>\n",
       "</table>\n",
       "</div>"
      ],
      "text/plain": [
       "    Symbol Series         Date  Prev Close  Open Price  High Price  Low Price  \\\n",
       "736    TCS     EQ  25-Nov-2019     2071.70     2074.55     2084.95    2052.20   \n",
       "737    TCS     EQ  26-Nov-2019     2081.50     2089.85     2097.90    2035.05   \n",
       "738    TCS     EQ  27-Nov-2019     2046.65     2052.00     2071.70    2046.55   \n",
       "739    TCS     EQ  28-Nov-2019     2054.30     2067.05     2094.40    2060.00   \n",
       "740    TCS     EQ  29-Nov-2019     2077.35     2085.00     2085.00    2045.80   \n",
       "\n",
       "     Last Price  Close Price  Average Price  Total Traded Quantity  \\\n",
       "736     2083.50      2081.50        2075.63                2737010   \n",
       "737     2046.65      2046.65        2056.29                6561580   \n",
       "738     2055.00      2054.30        2060.49                2907521   \n",
       "739     2075.90      2077.35        2081.33                2924429   \n",
       "740     2051.65      2053.25        2055.87                2064271   \n",
       "\n",
       "         Turnover  No. of Trades  Deliverable Qty  % Dly Qt to Traded Qty  \n",
       "736  5.681025e+09         118827          1562308                   57.08  \n",
       "737  1.349252e+10         164453          4970094                   75.75  \n",
       "738  5.990930e+09         108988          2020463                   69.49  \n",
       "739  6.086707e+09         142488          1651510                   56.47  \n",
       "740  4.243880e+09         105237          1200921                   58.18  "
      ]
     },
     "execution_count": 2,
     "metadata": {},
     "output_type": "execute_result"
    }
   ],
   "source": [
    "df1 = pd.read_csv('./data/train_1.csv')\n",
    "df2 = pd.read_csv('./data/train_2.csv')\n",
    "df3 = pd.read_csv('./data/train_3.csv')\n",
    "df=pd.concat((df1,df2,df3),axis=0)\n",
    "df.reset_index(inplace=True,drop=True)\n",
    "df.dropna(inplace=True)\n",
    "df.tail()\n"
   ]
  },
  {
   "cell_type": "code",
   "execution_count": 3,
   "metadata": {},
   "outputs": [
    {
     "data": {
      "text/plain": [
       "(741, 15)"
      ]
     },
     "execution_count": 3,
     "metadata": {},
     "output_type": "execute_result"
    }
   ],
   "source": [
    "df.shape"
   ]
  },
  {
   "cell_type": "markdown",
   "metadata": {},
   "source": [
    "#### Data Preprocessing"
   ]
  },
  {
   "cell_type": "code",
   "execution_count": 4,
   "metadata": {},
   "outputs": [],
   "source": [
    "df_train = df.iloc[:, 4:5].values  #dont loc it returns 1d array\n",
    "df_train1=df.loc[:,['Open Price','Close Price']]"
   ]
  },
  {
   "cell_type": "code",
   "execution_count": 5,
   "metadata": {},
   "outputs": [
    {
     "data": {
      "text/plain": [
       "Text(0.5, 1.0, 'Analyzing Open Average Close Price')"
      ]
     },
     "execution_count": 5,
     "metadata": {},
     "output_type": "execute_result"
    },
    {
     "data": {
      "image/png": "[encoded data removed]",
      "text/plain": [
       "<Figure size 720x576 with 1 Axes>"
      ]
     },
     "metadata": {
      "needs_background": "light"
     },
     "output_type": "display_data"
    }
   ],
   "source": [
    "plt.figure(figsize=(10,8))\n",
    "plt.title('open price')\n",
    "plt.plot(df.loc[0:30,'Open Price'].values ,label='open price')\n",
    "plt.title('Average Price')\n",
    "plt.plot(df.loc[0:30,'Average Price'].values,label='average price')\n",
    "plt.title('Close Price')\n",
    "plt.plot(df.loc[:30,'Close Price'].values,label='close price')\n",
    "plt.legend()\n",
    "plt.title('Analyzing Open Average Close Price')"
   ]
  },
  {
   "cell_type": "code",
   "execution_count": 6,
   "metadata": {},
   "outputs": [],
   "source": [
    "# Feature Scaling\n",
    "from sklearn.preprocessing import MinMaxScaler\n",
    "sc = MinMaxScaler(feature_range = (0, 1))\n",
    "df_train_sc = sc.fit_transform(df_train)\n",
    "df_train_sc1 = sc.fit_transform(df_train1)\n",
    "#df_train_sc1[0]"
   ]
  },
  {
   "cell_type": "code",
   "execution_count": 7,
   "metadata": {},
   "outputs": [],
   "source": [
    "# Creating a data structure with 60 timesteps and 1 output\n",
    "X_train = []\n",
    "y_train = []\n",
    "for i in range(90, 741):\n",
    "    X_train.append(df_train_sc1[i-90:i, :])\n",
    "    y_train.append(df_train_sc1[i, 0])\n",
    "X_train, y_train = np.array(X_train), np.array(y_train)\n",
    "#print(X_train[0])"
   ]
  },
  {
   "cell_type": "code",
   "execution_count": 8,
   "metadata": {},
   "outputs": [
    {
     "data": {
      "text/plain": [
       "((651, 90, 2), (651,))"
      ]
     },
     "execution_count": 8,
     "metadata": {},
     "output_type": "execute_result"
    }
   ],
   "source": [
    "X_train.shape,y_train.shape"
   ]
  },
  {
   "cell_type": "code",
   "execution_count": 9,
   "metadata": {},
   "outputs": [],
   "source": [
    "# Reshaping\n",
    "#X_train = np.reshape(X_train, (X_train.shape[0], X_train.shape[1], 1))\n",
    "#X_train.shape"
   ]
  },
  {
   "cell_type": "code",
   "execution_count": 10,
   "metadata": {},
   "outputs": [],
   "source": [
    "# Initialising the RNN\n",
    "regressor = Sequential()\n",
    "\n",
    "# Adding the first LSTM layer and some Dropout regularisation\n",
    "regressor.add(LSTM(units = 50, return_sequences = True, input_shape = (90, 2)))\n",
    "regressor.add(Dropout(0.2))\n",
    "\n",
    "# Adding a second LSTM layer and some Dropout regularisation\n",
    "regressor.add(LSTM(units = 50, return_sequences = True))\n",
    "regressor.add(Dropout(0.2))\n",
    "\n",
    "# Adding a third LSTM layer and some Dropout regularisation\n",
    "regressor.add(LSTM(units = 50, return_sequences = True))\n",
    "regressor.add(Dropout(0.2))\n",
    "\n",
    "# Adding a fourth LSTM layer and some Dropout regularisation\n",
    "regressor.add(LSTM(units = 50))\n",
    "regressor.add(Dropout(0.2))\n",
    "\n",
    "# Adding the output layer\n",
    "regressor.add(Dense(units = 1))"
   ]
  },
  {
   "cell_type": "code",
   "execution_count": 11,
   "metadata": {},
   "outputs": [],
   "source": [
    "# Compiling the RNN\n",
    "regressor.compile(optimizer = 'adam', loss = 'mean_squared_error')"
   ]
  },
  {
   "cell_type": "code",
   "execution_count": 12,
   "metadata": {},
   "outputs": [
    {
     "name": "stdout",
     "output_type": "stream",
     "text": [
      "Model: \"sequential_1\"\n",
      "_________________________________________________________________\n",
      "Layer (type)                 Output Shape              Param #   \n",
      "=================================================================\n",
      "lstm_1 (LSTM)                (None, 90, 50)            10600     \n",
      "_________________________________________________________________\n",
      "dropout_1 (Dropout)          (None, 90, 50)            0         \n",
      "_________________________________________________________________\n",
      "lstm_2 (LSTM)                (None, 90, 50)            20200     \n",
      "_________________________________________________________________\n",
      "dropout_2 (Dropout)          (None, 90, 50)            0         \n",
      "_________________________________________________________________\n",
      "lstm_3 (LSTM)                (None, 90, 50)            20200     \n",
      "_________________________________________________________________\n",
      "dropout_3 (Dropout)          (None, 90, 50)            0         \n",
      "_________________________________________________________________\n",
      "lstm_4 (LSTM)                (None, 50)                20200     \n",
      "_________________________________________________________________\n",
      "dropout_4 (Dropout)          (None, 50)                0         \n",
      "_________________________________________________________________\n",
      "dense_1 (Dense)              (None, 1)                 51        \n",
      "=================================================================\n",
      "Total params: 71,251\n",
      "Trainable params: 71,251\n",
      "Non-trainable params: 0\n",
      "_________________________________________________________________\n"
     ]
    }
   ],
   "source": [
    "regressor.summary()"
   ]
  },
  {
   "cell_type": "code",
   "execution_count": null,
   "metadata": {},
   "outputs": [
    {
     "name": "stdout",
     "output_type": "stream",
     "text": [
      "Epoch 1/100\n",
      "651/651 [==============================] - 5s 8ms/step - loss: 0.0374\n",
      "Epoch 2/100\n",
      "651/651 [==============================] - 4s 6ms/step - loss: 0.0180\n",
      "Epoch 3/100\n",
      "651/651 [==============================] - 4s 6ms/step - loss: 0.0167\n",
      "Epoch 4/100\n",
      "651/651 [==============================] - 4s 6ms/step - loss: 0.0141\n",
      "Epoch 5/100\n",
      "651/651 [==============================] - 4s 6ms/step - loss: 0.0119\n",
      "Epoch 6/100\n",
      "651/651 [==============================] - 5s 7ms/step - loss: 0.0148\n",
      "Epoch 7/100\n",
      "651/651 [==============================] - 5s 8ms/step - loss: 0.0128\n",
      "Epoch 8/100\n",
      "651/651 [==============================] - 4s 7ms/step - loss: 0.0114\n",
      "Epoch 9/100\n",
      "651/651 [==============================] - 4s 7ms/step - loss: 0.0129\n",
      "Epoch 10/100\n",
      "651/651 [==============================] - 4s 6ms/step - loss: 0.0118\n",
      "Epoch 11/100\n",
      "651/651 [==============================] - 4s 6ms/step - loss: 0.0089\n",
      "Epoch 12/100\n",
      "651/651 [==============================] - 4s 7ms/step - loss: 0.0085\n",
      "Epoch 13/100\n",
      "651/651 [==============================] - 4s 6ms/step - loss: 0.0085\n",
      "Epoch 14/100\n",
      "651/651 [==============================] - 4s 6ms/step - loss: 0.0072\n",
      "Epoch 15/100\n",
      "651/651 [==============================] - 4s 6ms/step - loss: 0.0067\n",
      "Epoch 16/100\n",
      "651/651 [==============================] - 4s 6ms/step - loss: 0.0100\n",
      "Epoch 17/100\n",
      "651/651 [==============================] - 4s 7ms/step - loss: 0.0085\n",
      "Epoch 18/100\n",
      "651/651 [==============================] - 5s 7ms/step - loss: 0.0082\n",
      "Epoch 19/100\n",
      "651/651 [==============================] - 4s 6ms/step - loss: 0.0094\n",
      "Epoch 20/100\n",
      "651/651 [==============================] - 4s 7ms/step - loss: 0.0085\n",
      "Epoch 21/100\n",
      "651/651 [==============================] - 4s 6ms/step - loss: 0.0080\n",
      "Epoch 22/100\n",
      "651/651 [==============================] - 4s 6ms/step - loss: 0.0086\n",
      "Epoch 23/100\n",
      "160/651 [======>.......................] - ETA: 2s - loss: 0.0172"
     ]
    }
   ],
   "source": [
    "\n",
    "# Fitting the RNN to the Training set\n",
    "regressor.fit(X_train, y_train, epochs = 100, batch_size = 32)"
   ]
  },
  {
   "cell_type": "markdown",
   "metadata": {},
   "source": [
    "#### Making the predictions and visualising the results"
   ]
  },
  {
   "cell_type": "code",
   "execution_count": null,
   "metadata": {},
   "outputs": [],
   "source": [
    "# Getting the real stock price of 2017\n",
    "df_test = pd.read_csv('./data/tcs_test1.csv')\n",
    "df_test.tail()\n",
    "#df_test.shape"
   ]
  },
  {
   "cell_type": "code",
   "execution_count": null,
   "metadata": {},
   "outputs": [],
   "source": [
    "real_stock_price = df_test.iloc[:, 4:5].values"
   ]
  },
  {
   "cell_type": "code",
   "execution_count": null,
   "metadata": {},
   "outputs": [],
   "source": [
    "# Getting the predicted stock price \n",
    "df_total = pd.concat((df.loc[:,['Open Price','Close Price']], df_test.loc[:,['Open Price','Close Price']]), axis = 0)\n",
    "inputs = df_total[len(df_total) - len(df_test) - 90:].values\n",
    "#inputs = inputs.reshape(-1,1)\n",
    "inputs = sc.transform(inputs)"
   ]
  },
  {
   "cell_type": "code",
   "execution_count": null,
   "metadata": {},
   "outputs": [],
   "source": [
    "inputs.shape,df_total.shape"
   ]
  },
  {
   "cell_type": "code",
   "execution_count": null,
   "metadata": {},
   "outputs": [],
   "source": [
    "X_test = []\n",
    "for i in range(90, 117):\n",
    "    X_test.append(inputs[i-90:i,: ])\n",
    "X_test = np.array(X_test)\n",
    "#X_test = np.reshape(X_test, (X_test.shape[0], X_test.shape[1], 1))"
   ]
  },
  {
   "cell_type": "code",
   "execution_count": null,
   "metadata": {},
   "outputs": [],
   "source": [
    "X_test.shape"
   ]
  },
  {
   "cell_type": "code",
   "execution_count": null,
   "metadata": {},
   "outputs": [],
   "source": [
    "predicted_stock_price = regressor.predict(X_test)\n",
    "#predicted_stock_price"
   ]
  },
  {
   "cell_type": "code",
   "execution_count": null,
   "metadata": {},
   "outputs": [],
   "source": [
    "trainPredict_dataset_like = np.zeros(shape=(len(predicted_stock_price), 2) )\n",
    "trainPredict_dataset_like[:,0] = predicted_stock_price[:,0]"
   ]
  },
  {
   "cell_type": "code",
   "execution_count": null,
   "metadata": {},
   "outputs": [],
   "source": [
    "predicted_stock_price = sc.inverse_transform(trainPredict_dataset_like)[:,0]"
   ]
  },
  {
   "cell_type": "code",
   "execution_count": null,
   "metadata": {},
   "outputs": [],
   "source": [
    "predicted_stock_price"
   ]
  },
  {
   "cell_type": "code",
   "execution_count": null,
   "metadata": {},
   "outputs": [],
   "source": [
    "# Visualising the results\n",
    "plt.plot(real_stock_price, color = 'red', label = 'Real TCS Stock Price')\n",
    "plt.plot(predicted_stock_price, color = 'blue', label = 'Predicted TCS Stock Price')\n",
    "plt.title('TCS Stock Price Prediction')\n",
    "plt.xlabel('Time')\n",
    "plt.ylabel('TCS Stock Price')\n",
    "plt.legend()\n",
    "plt.show()"
   ]
  },
  {
   "cell_type": "code",
   "execution_count": null,
   "metadata": {},
   "outputs": [],
   "source": [
    "pd.DataFrame({'real':real_stock_price.flatten(),'predicted':predicted_stock_price.flatten()})"
   ]
  },
  {
   "cell_type": "code",
   "execution_count": null,
   "metadata": {},
   "outputs": [],
   "source": []
  }
 ],
 "metadata": {
  "kernelspec": {
   "display_name": "Python 3",
   "language": "python",
   "name": "python3"
  },
  "language_info": {
   "codemirror_mode": {
    "name": "ipython",
    "version": 3
   },
   "file_extension": ".py",
   "mimetype": "text/x-python",
   "name": "python",
   "nbconvert_exporter": "python",
   "pygments_lexer": "ipython3",
   "version": "3.7.3"
  },
  "varInspector": {
   "cols": {
    "lenName": 16,
    "lenType": 16,
    "lenVar": 40
   },
   "kernels_config": {
    "python": {
     "delete_cmd_postfix": "",
     "delete_cmd_prefix": "del ",
     "library": "var_list.py",
     "varRefreshCmd": "print(var_dic_list())"
    },
    "r": {
     "delete_cmd_postfix": ") ",
     "delete_cmd_prefix": "rm(",
     "library": "var_list.r",
     "varRefreshCmd": "cat(var_dic_list()) "
    }
   },
   "types_to_exclude": [
    "module",
    "function",
    "builtin_function_or_method",
    "instance",
    "_Feature"
   ],
   "window_display": false
  }
 },
 "nbformat": 4,
 "nbformat_minor": 2
}
