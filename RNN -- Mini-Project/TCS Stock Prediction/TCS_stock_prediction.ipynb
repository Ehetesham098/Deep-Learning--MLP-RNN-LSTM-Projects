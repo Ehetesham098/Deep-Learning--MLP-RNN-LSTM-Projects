{
 "cells": [
  {
   "cell_type": "markdown",
   "metadata": {},
   "source": [
    "### TCS_stock_prediction\n",
    "\n",
    "In this notebook we will predict tcs stock price using LSTM on Open price"
   ]
  },
  {
   "cell_type": "code",
   "execution_count": 1,
   "metadata": {},
   "outputs": [
    {
     "name": "stderr",
     "output_type": "stream",
     "text": [
      "Using TensorFlow backend.\n"
     ]
    }
   ],
   "source": [
    "# Importing the libraries\n",
    "import numpy as np\n",
    "import matplotlib.pyplot as plt\n",
    "import pandas as pd\n",
    "# Importing the Keras libraries and packages\n",
    "from keras.models import Sequential\n",
    "from keras.layers import Dense\n",
    "from keras.layers import LSTM\n",
    "from keras.layers import Dropout\n",
    "from keras.layers.advanced_activations import LeakyReLU"
   ]
  },
  {
   "cell_type": "code",
   "execution_count": 2,
   "metadata": {},
   "outputs": [],
   "source": [
    "df = pd.read_csv('./data/tcs_train.csv')\n",
    "df.dropna(inplace=True)"
   ]
  },
  {
   "cell_type": "code",
   "execution_count": 3,
   "metadata": {},
   "outputs": [
    {
     "data": {
      "text/html": [
       "<div>\n",
       "<style scoped>\n",
       "    .dataframe tbody tr th:only-of-type {\n",
       "        vertical-align: middle;\n",
       "    }\n",
       "\n",
       "    .dataframe tbody tr th {\n",
       "        vertical-align: top;\n",
       "    }\n",
       "\n",
       "    .dataframe thead th {\n",
       "        text-align: right;\n",
       "    }\n",
       "</style>\n",
       "<table border=\"1\" class=\"dataframe\">\n",
       "  <thead>\n",
       "    <tr style=\"text-align: right;\">\n",
       "      <th></th>\n",
       "      <th>Date</th>\n",
       "      <th>Open</th>\n",
       "      <th>High</th>\n",
       "      <th>Low</th>\n",
       "      <th>Close</th>\n",
       "      <th>Adj Close</th>\n",
       "      <th>Volume</th>\n",
       "    </tr>\n",
       "  </thead>\n",
       "  <tbody>\n",
       "    <tr>\n",
       "      <td>733</td>\n",
       "      <td>2019-11-25</td>\n",
       "      <td>2074.550049</td>\n",
       "      <td>2084.949951</td>\n",
       "      <td>2052.199951</td>\n",
       "      <td>2081.500000</td>\n",
       "      <td>2081.500000</td>\n",
       "      <td>2737010.0</td>\n",
       "    </tr>\n",
       "    <tr>\n",
       "      <td>734</td>\n",
       "      <td>2019-11-26</td>\n",
       "      <td>2089.850098</td>\n",
       "      <td>2097.899902</td>\n",
       "      <td>2035.050049</td>\n",
       "      <td>2046.650024</td>\n",
       "      <td>2046.650024</td>\n",
       "      <td>6561580.0</td>\n",
       "    </tr>\n",
       "    <tr>\n",
       "      <td>735</td>\n",
       "      <td>2019-11-27</td>\n",
       "      <td>2052.000000</td>\n",
       "      <td>2071.699951</td>\n",
       "      <td>2046.550049</td>\n",
       "      <td>2054.300049</td>\n",
       "      <td>2054.300049</td>\n",
       "      <td>2907521.0</td>\n",
       "    </tr>\n",
       "    <tr>\n",
       "      <td>736</td>\n",
       "      <td>2019-11-28</td>\n",
       "      <td>2067.050049</td>\n",
       "      <td>2094.399902</td>\n",
       "      <td>2060.000000</td>\n",
       "      <td>2077.350098</td>\n",
       "      <td>2077.350098</td>\n",
       "      <td>2924429.0</td>\n",
       "    </tr>\n",
       "    <tr>\n",
       "      <td>737</td>\n",
       "      <td>2019-11-29</td>\n",
       "      <td>2085.000000</td>\n",
       "      <td>2085.000000</td>\n",
       "      <td>2045.800049</td>\n",
       "      <td>2053.250000</td>\n",
       "      <td>2053.250000</td>\n",
       "      <td>2064271.0</td>\n",
       "    </tr>\n",
       "  </tbody>\n",
       "</table>\n",
       "</div>"
      ],
      "text/plain": [
       "           Date         Open         High          Low        Close  \\\n",
       "733  2019-11-25  2074.550049  2084.949951  2052.199951  2081.500000   \n",
       "734  2019-11-26  2089.850098  2097.899902  2035.050049  2046.650024   \n",
       "735  2019-11-27  2052.000000  2071.699951  2046.550049  2054.300049   \n",
       "736  2019-11-28  2067.050049  2094.399902  2060.000000  2077.350098   \n",
       "737  2019-11-29  2085.000000  2085.000000  2045.800049  2053.250000   \n",
       "\n",
       "       Adj Close     Volume  \n",
       "733  2081.500000  2737010.0  \n",
       "734  2046.650024  6561580.0  \n",
       "735  2054.300049  2907521.0  \n",
       "736  2077.350098  2924429.0  \n",
       "737  2053.250000  2064271.0  "
      ]
     },
     "execution_count": 3,
     "metadata": {},
     "output_type": "execute_result"
    }
   ],
   "source": [
    "df.tail()"
   ]
  },
  {
   "cell_type": "code",
   "execution_count": 4,
   "metadata": {},
   "outputs": [
    {
     "data": {
      "text/plain": [
       "(737, 7)"
      ]
     },
     "execution_count": 4,
     "metadata": {},
     "output_type": "execute_result"
    }
   ],
   "source": [
    "df.shape"
   ]
  },
  {
   "cell_type": "markdown",
   "metadata": {},
   "source": [
    "#### Data Preprocessing"
   ]
  },
  {
   "cell_type": "code",
   "execution_count": 5,
   "metadata": {},
   "outputs": [],
   "source": [
    "df_train = df.iloc[:, 1:2].values\n",
    "#df_train"
   ]
  },
  {
   "cell_type": "code",
   "execution_count": 6,
   "metadata": {},
   "outputs": [],
   "source": [
    "# Feature Scaling\n",
    "from sklearn.preprocessing import MinMaxScaler\n",
    "sc = MinMaxScaler(feature_range = (0, 1))\n",
    "df_train_sc = sc.fit_transform(df_train)"
   ]
  },
  {
   "cell_type": "code",
   "execution_count": 7,
   "metadata": {},
   "outputs": [],
   "source": [
    "# Creating a data structure with 60 timesteps and 1 output\n",
    "X_train = []\n",
    "y_train = []\n",
    "for i in range(90, 737):\n",
    "    X_train.append(df_train_sc[i-90:i, 0])\n",
    "    y_train.append(df_train_sc[i, 0])\n",
    "X_train, y_train = np.array(X_train), np.array(y_train)\n"
   ]
  },
  {
   "cell_type": "code",
   "execution_count": 8,
   "metadata": {},
   "outputs": [
    {
     "data": {
      "text/plain": [
       "((647, 90), (647,))"
      ]
     },
     "execution_count": 8,
     "metadata": {},
     "output_type": "execute_result"
    }
   ],
   "source": [
    "X_train.shape,y_train.shape"
   ]
  },
  {
   "cell_type": "code",
   "execution_count": 9,
   "metadata": {},
   "outputs": [
    {
     "data": {
      "text/plain": [
       "(647, 90, 1)"
      ]
     },
     "execution_count": 9,
     "metadata": {},
     "output_type": "execute_result"
    }
   ],
   "source": [
    "# Reshaping\n",
    "X_train = np.reshape(X_train, (X_train.shape[0], X_train.shape[1], 1))\n",
    "X_train.shape"
   ]
  },
  {
   "cell_type": "code",
   "execution_count": 10,
   "metadata": {},
   "outputs": [],
   "source": [
    "# Initialising the RNN\n",
    "regressor = Sequential()\n",
    "\n",
    "# Adding the first LSTM layer and some Dropout regularisation\n",
    "regressor.add(LSTM(units = 50, return_sequences = True, input_shape = (X_train.shape[1], 1)))\n",
    "regressor.add(Dropout(0.2))\n",
    "\n",
    "# Adding a second LSTM layer and some Dropout regularisation\n",
    "regressor.add(LSTM(units = 50, return_sequences = True))\n",
    "regressor.add(Dropout(0.2))\n",
    "\n",
    "# Adding a third LSTM layer and some Dropout regularisation\n",
    "regressor.add(LSTM(units = 50, return_sequences = True))\n",
    "regressor.add(Dropout(0.2))\n",
    "\n",
    "# Adding a fourth LSTM layer and some Dropout regularisation\n",
    "regressor.add(LSTM(units = 50))\n",
    "regressor.add(Dropout(0.2))\n",
    "\n",
    "# Adding the output layer\n",
    "regressor.add(Dense(units = 1))"
   ]
  },
  {
   "cell_type": "code",
   "execution_count": 11,
   "metadata": {},
   "outputs": [
    {
     "name": "stdout",
     "output_type": "stream",
     "text": [
      "Epoch 1/100\n",
      "647/647 [==============================] - 6s 9ms/step - loss: 0.0838\n",
      "Epoch 2/100\n",
      "647/647 [==============================] - 4s 7ms/step - loss: 0.0130\n",
      "Epoch 3/100\n",
      "647/647 [==============================] - 5s 8ms/step - loss: 0.0081\n",
      "Epoch 4/100\n",
      "647/647 [==============================] - 5s 8ms/step - loss: 0.0089\n",
      "Epoch 5/100\n",
      "647/647 [==============================] - 5s 7ms/step - loss: 0.0077\n",
      "Epoch 6/100\n",
      "647/647 [==============================] - 4s 6ms/step - loss: 0.0078\n",
      "Epoch 7/100\n",
      "647/647 [==============================] - 4s 6ms/step - loss: 0.0081\n",
      "Epoch 8/100\n",
      "647/647 [==============================] - 4s 7ms/step - loss: 0.0081\n",
      "Epoch 9/100\n",
      "647/647 [==============================] - 4s 6ms/step - loss: 0.0078\n",
      "Epoch 10/100\n",
      "647/647 [==============================] - 4s 6ms/step - loss: 0.0077\n",
      "Epoch 11/100\n",
      "647/647 [==============================] - 4s 6ms/step - loss: 0.0073\n",
      "Epoch 12/100\n",
      "647/647 [==============================] - 4s 6ms/step - loss: 0.0073\n",
      "Epoch 13/100\n",
      "647/647 [==============================] - 5s 7ms/step - loss: 0.0095\n",
      "Epoch 14/100\n",
      "647/647 [==============================] - 5s 8ms/step - loss: 0.0068\n",
      "Epoch 15/100\n",
      "647/647 [==============================] - 5s 7ms/step - loss: 0.0071\n",
      "Epoch 16/100\n",
      "647/647 [==============================] - 5s 7ms/step - loss: 0.0084\n",
      "Epoch 17/100\n",
      "647/647 [==============================] - 4s 7ms/step - loss: 0.0074\n",
      "Epoch 18/100\n",
      "647/647 [==============================] - 4s 6ms/step - loss: 0.0066\n",
      "Epoch 19/100\n",
      "647/647 [==============================] - 4s 6ms/step - loss: 0.0067\n",
      "Epoch 20/100\n",
      "647/647 [==============================] - 4s 6ms/step - loss: 0.0060\n",
      "Epoch 21/100\n",
      "647/647 [==============================] - 4s 6ms/step - loss: 0.0075\n",
      "Epoch 22/100\n",
      "647/647 [==============================] - 4s 6ms/step - loss: 0.0066\n",
      "Epoch 23/100\n",
      "647/647 [==============================] - 4s 6ms/step - loss: 0.0060\n",
      "Epoch 24/100\n",
      "647/647 [==============================] - 4s 6ms/step - loss: 0.0062\n",
      "Epoch 25/100\n",
      "647/647 [==============================] - 4s 6ms/step - loss: 0.0059\n",
      "Epoch 26/100\n",
      "647/647 [==============================] - 4s 6ms/step - loss: 0.0065\n",
      "Epoch 27/100\n",
      "647/647 [==============================] - 4s 6ms/step - loss: 0.0065\n",
      "Epoch 28/100\n",
      "647/647 [==============================] - 4s 6ms/step - loss: 0.0055\n",
      "Epoch 29/100\n",
      "647/647 [==============================] - 4s 6ms/step - loss: 0.0064\n",
      "Epoch 30/100\n",
      "647/647 [==============================] - 4s 6ms/step - loss: 0.0059\n",
      "Epoch 31/100\n",
      "647/647 [==============================] - 4s 6ms/step - loss: 0.0068\n",
      "Epoch 32/100\n",
      "647/647 [==============================] - 4s 6ms/step - loss: 0.0060\n",
      "Epoch 33/100\n",
      "647/647 [==============================] - 4s 6ms/step - loss: 0.0053\n",
      "Epoch 34/100\n",
      "647/647 [==============================] - 4s 6ms/step - loss: 0.0053\n",
      "Epoch 35/100\n",
      "647/647 [==============================] - 4s 6ms/step - loss: 0.0052\n",
      "Epoch 36/100\n",
      "647/647 [==============================] - 4s 6ms/step - loss: 0.0058\n",
      "Epoch 37/100\n",
      "647/647 [==============================] - 4s 6ms/step - loss: 0.0055\n",
      "Epoch 38/100\n",
      "647/647 [==============================] - 4s 6ms/step - loss: 0.0055\n",
      "Epoch 39/100\n",
      "647/647 [==============================] - 4s 6ms/step - loss: 0.0053\n",
      "Epoch 40/100\n",
      "647/647 [==============================] - 4s 6ms/step - loss: 0.0047\n",
      "Epoch 41/100\n",
      "647/647 [==============================] - 4s 6ms/step - loss: 0.0052\n",
      "Epoch 42/100\n",
      "647/647 [==============================] - 4s 7ms/step - loss: 0.0043\n",
      "Epoch 43/100\n",
      "647/647 [==============================] - 4s 6ms/step - loss: 0.0045\n",
      "Epoch 44/100\n",
      "647/647 [==============================] - 5s 7ms/step - loss: 0.0044\n",
      "Epoch 45/100\n",
      "647/647 [==============================] - 5s 8ms/step - loss: 0.0045\n",
      "Epoch 46/100\n",
      "647/647 [==============================] - 5s 7ms/step - loss: 0.0039\n",
      "Epoch 47/100\n",
      "647/647 [==============================] - 4s 7ms/step - loss: 0.0050\n",
      "Epoch 48/100\n",
      "647/647 [==============================] - 4s 6ms/step - loss: 0.0042\n",
      "Epoch 49/100\n",
      "647/647 [==============================] - 4s 6ms/step - loss: 0.0037\n",
      "Epoch 50/100\n",
      "647/647 [==============================] - 5s 7ms/step - loss: 0.0046\n",
      "Epoch 51/100\n",
      "647/647 [==============================] - 5s 7ms/step - loss: 0.0041\n",
      "Epoch 52/100\n",
      "647/647 [==============================] - 5s 7ms/step - loss: 0.0042\n",
      "Epoch 53/100\n",
      "647/647 [==============================] - 5s 8ms/step - loss: 0.0044\n",
      "Epoch 54/100\n",
      "647/647 [==============================] - 4s 7ms/step - loss: 0.0043\n",
      "Epoch 55/100\n",
      "647/647 [==============================] - 4s 6ms/step - loss: 0.0041\n",
      "Epoch 56/100\n",
      "647/647 [==============================] - 4s 6ms/step - loss: 0.0040\n",
      "Epoch 57/100\n",
      "647/647 [==============================] - 4s 6ms/step - loss: 0.0041\n",
      "Epoch 58/100\n",
      "647/647 [==============================] - 4s 6ms/step - loss: 0.0038\n",
      "Epoch 59/100\n",
      "647/647 [==============================] - 4s 6ms/step - loss: 0.0040\n",
      "Epoch 60/100\n",
      "647/647 [==============================] - 4s 6ms/step - loss: 0.0037\n",
      "Epoch 61/100\n",
      "647/647 [==============================] - 4s 6ms/step - loss: 0.0035\n",
      "Epoch 62/100\n",
      "647/647 [==============================] - 4s 7ms/step - loss: 0.0034\n",
      "Epoch 63/100\n",
      "647/647 [==============================] - 4s 6ms/step - loss: 0.0036\n",
      "Epoch 64/100\n",
      "647/647 [==============================] - 5s 8ms/step - loss: 0.0033\n",
      "Epoch 65/100\n",
      "647/647 [==============================] - 5s 7ms/step - loss: 0.0037\n",
      "Epoch 66/100\n",
      "647/647 [==============================] - 5s 8ms/step - loss: 0.0033\n",
      "Epoch 67/100\n",
      "647/647 [==============================] - 5s 8ms/step - loss: 0.0036\n",
      "Epoch 68/100\n",
      "647/647 [==============================] - 5s 8ms/step - loss: 0.0032\n",
      "Epoch 69/100\n",
      "647/647 [==============================] - 5s 8ms/step - loss: 0.0037\n",
      "Epoch 70/100\n",
      "647/647 [==============================] - 4s 7ms/step - loss: 0.0034\n",
      "Epoch 71/100\n",
      "647/647 [==============================] - 4s 7ms/step - loss: 0.0032\n",
      "Epoch 72/100\n",
      "647/647 [==============================] - 5s 7ms/step - loss: 0.0032\n",
      "Epoch 73/100\n",
      "647/647 [==============================] - 5s 8ms/step - loss: 0.0033\n",
      "Epoch 74/100\n",
      "647/647 [==============================] - 5s 7ms/step - loss: 0.0035\n",
      "Epoch 75/100\n",
      "647/647 [==============================] - 4s 7ms/step - loss: 0.0032\n",
      "Epoch 76/100\n",
      "647/647 [==============================] - 4s 7ms/step - loss: 0.0033\n",
      "Epoch 77/100\n",
      "647/647 [==============================] - 4s 7ms/step - loss: 0.0031\n",
      "Epoch 78/100\n",
      "647/647 [==============================] - 4s 7ms/step - loss: 0.0032\n",
      "Epoch 79/100\n",
      "647/647 [==============================] - 5s 7ms/step - loss: 0.0035\n",
      "Epoch 80/100\n",
      "647/647 [==============================] - 4s 7ms/step - loss: 0.0028\n",
      "Epoch 81/100\n",
      "647/647 [==============================] - 5s 7ms/step - loss: 0.0030\n",
      "Epoch 82/100\n",
      "647/647 [==============================] - 5s 8ms/step - loss: 0.0033\n",
      "Epoch 83/100\n",
      "647/647 [==============================] - 5s 8ms/step - loss: 0.0031\n",
      "Epoch 84/100\n",
      "647/647 [==============================] - 5s 8ms/step - loss: 0.0031\n",
      "Epoch 85/100\n",
      "647/647 [==============================] - 5s 8ms/step - loss: 0.0029\n",
      "Epoch 86/100\n",
      "647/647 [==============================] - 5s 8ms/step - loss: 0.0027\n",
      "Epoch 87/100\n",
      "647/647 [==============================] - 5s 8ms/step - loss: 0.0030\n",
      "Epoch 88/100\n",
      "647/647 [==============================] - 5s 7ms/step - loss: 0.0029\n",
      "Epoch 89/100\n",
      "647/647 [==============================] - 4s 7ms/step - loss: 0.0031\n",
      "Epoch 90/100\n",
      "647/647 [==============================] - 5s 7ms/step - loss: 0.0033\n",
      "Epoch 91/100\n",
      "647/647 [==============================] - 5s 8ms/step - loss: 0.0030\n",
      "Epoch 92/100\n",
      "647/647 [==============================] - 5s 8ms/step - loss: 0.0030\n",
      "Epoch 93/100\n",
      "647/647 [==============================] - 6s 9ms/step - loss: 0.0030\n",
      "Epoch 94/100\n",
      "647/647 [==============================] - 5s 8ms/step - loss: 0.0028\n",
      "Epoch 95/100\n",
      "647/647 [==============================] - 5s 7ms/step - loss: 0.0029\n",
      "Epoch 96/100\n",
      "647/647 [==============================] - 4s 6ms/step - loss: 0.0029\n",
      "Epoch 97/100\n",
      "647/647 [==============================] - 3s 5ms/step - loss: 0.0026\n",
      "Epoch 98/100\n",
      "647/647 [==============================] - 3s 5ms/step - loss: 0.0029\n",
      "Epoch 99/100\n"
     ]
    },
    {
     "name": "stdout",
     "output_type": "stream",
     "text": [
      "647/647 [==============================] - 4s 5ms/step - loss: 0.0033\n",
      "Epoch 100/100\n",
      "647/647 [==============================] - 3s 5ms/step - loss: 0.0029\n"
     ]
    },
    {
     "data": {
      "text/plain": [
       "<keras.callbacks.callbacks.History at 0x1a3b5acac8>"
      ]
     },
     "execution_count": 11,
     "metadata": {},
     "output_type": "execute_result"
    }
   ],
   "source": [
    "# Compiling the RNN\n",
    "regressor.compile(optimizer = 'adam', loss = 'mean_squared_error')\n",
    "\n",
    "# Fitting the RNN to the Training set\n",
    "regressor.fit(X_train, y_train, epochs = 100, batch_size = 32)"
   ]
  },
  {
   "cell_type": "markdown",
   "metadata": {},
   "source": [
    "#### Making the predictions and visualising the results"
   ]
  },
  {
   "cell_type": "code",
   "execution_count": 12,
   "metadata": {},
   "outputs": [
    {
     "data": {
      "text/html": [
       "<div>\n",
       "<style scoped>\n",
       "    .dataframe tbody tr th:only-of-type {\n",
       "        vertical-align: middle;\n",
       "    }\n",
       "\n",
       "    .dataframe tbody tr th {\n",
       "        vertical-align: top;\n",
       "    }\n",
       "\n",
       "    .dataframe thead th {\n",
       "        text-align: right;\n",
       "    }\n",
       "</style>\n",
       "<table border=\"1\" class=\"dataframe\">\n",
       "  <thead>\n",
       "    <tr style=\"text-align: right;\">\n",
       "      <th></th>\n",
       "      <th>Date</th>\n",
       "      <th>Open</th>\n",
       "      <th>High</th>\n",
       "      <th>Low</th>\n",
       "      <th>Close</th>\n",
       "      <th>Adj Close</th>\n",
       "      <th>Volume</th>\n",
       "    </tr>\n",
       "  </thead>\n",
       "  <tbody>\n",
       "    <tr>\n",
       "      <td>17</td>\n",
       "      <td>2019-12-26</td>\n",
       "      <td>2216.399902</td>\n",
       "      <td>2229.000000</td>\n",
       "      <td>2195.199951</td>\n",
       "      <td>2201.949951</td>\n",
       "      <td>2201.949951</td>\n",
       "      <td>1880367</td>\n",
       "    </tr>\n",
       "    <tr>\n",
       "      <td>18</td>\n",
       "      <td>2019-12-27</td>\n",
       "      <td>2208.000000</td>\n",
       "      <td>2226.399902</td>\n",
       "      <td>2176.000000</td>\n",
       "      <td>2198.500000</td>\n",
       "      <td>2198.500000</td>\n",
       "      <td>2720261</td>\n",
       "    </tr>\n",
       "    <tr>\n",
       "      <td>19</td>\n",
       "      <td>2019-12-30</td>\n",
       "      <td>2207.000000</td>\n",
       "      <td>2225.000000</td>\n",
       "      <td>2177.100098</td>\n",
       "      <td>2183.199951</td>\n",
       "      <td>2183.199951</td>\n",
       "      <td>2288830</td>\n",
       "    </tr>\n",
       "    <tr>\n",
       "      <td>20</td>\n",
       "      <td>2019-12-31</td>\n",
       "      <td>2189.000000</td>\n",
       "      <td>2197.000000</td>\n",
       "      <td>2157.449951</td>\n",
       "      <td>2161.699951</td>\n",
       "      <td>2161.699951</td>\n",
       "      <td>1909289</td>\n",
       "    </tr>\n",
       "    <tr>\n",
       "      <td>21</td>\n",
       "      <td>2020-01-01</td>\n",
       "      <td>2168.000000</td>\n",
       "      <td>2183.899902</td>\n",
       "      <td>2154.000000</td>\n",
       "      <td>2167.600098</td>\n",
       "      <td>2167.600098</td>\n",
       "      <td>1354908</td>\n",
       "    </tr>\n",
       "  </tbody>\n",
       "</table>\n",
       "</div>"
      ],
      "text/plain": [
       "          Date         Open         High          Low        Close  \\\n",
       "17  2019-12-26  2216.399902  2229.000000  2195.199951  2201.949951   \n",
       "18  2019-12-27  2208.000000  2226.399902  2176.000000  2198.500000   \n",
       "19  2019-12-30  2207.000000  2225.000000  2177.100098  2183.199951   \n",
       "20  2019-12-31  2189.000000  2197.000000  2157.449951  2161.699951   \n",
       "21  2020-01-01  2168.000000  2183.899902  2154.000000  2167.600098   \n",
       "\n",
       "      Adj Close   Volume  \n",
       "17  2201.949951  1880367  \n",
       "18  2198.500000  2720261  \n",
       "19  2183.199951  2288830  \n",
       "20  2161.699951  1909289  \n",
       "21  2167.600098  1354908  "
      ]
     },
     "execution_count": 12,
     "metadata": {},
     "output_type": "execute_result"
    }
   ],
   "source": [
    "# Getting the real stock price of 2017\n",
    "df_test = pd.read_csv('./data/tcs_test.csv')\n",
    "df_test.tail()\n",
    "#df_test.shape"
   ]
  },
  {
   "cell_type": "code",
   "execution_count": 13,
   "metadata": {},
   "outputs": [],
   "source": [
    "real_stock_price = df_test.iloc[:, 1:2].values"
   ]
  },
  {
   "cell_type": "code",
   "execution_count": 14,
   "metadata": {},
   "outputs": [],
   "source": [
    "# Getting the predicted stock price \n",
    "df_total = pd.concat((df['Open'], df_test['Open']), axis = 0)\n",
    "inputs = df_total[len(df_total) - len(df_test) - 90:].values\n",
    "inputs = inputs.reshape(-1,1)\n",
    "inputs = sc.transform(inputs)"
   ]
  },
  {
   "cell_type": "code",
   "execution_count": 15,
   "metadata": {},
   "outputs": [
    {
     "data": {
      "text/plain": [
       "((112, 1), (759,))"
      ]
     },
     "execution_count": 15,
     "metadata": {},
     "output_type": "execute_result"
    }
   ],
   "source": [
    "inputs.shape,df_total.shape"
   ]
  },
  {
   "cell_type": "code",
   "execution_count": 16,
   "metadata": {},
   "outputs": [],
   "source": [
    "X_test = []\n",
    "for i in range(90, 112):\n",
    "    X_test.append(inputs[i-90:i, 0])\n",
    "X_test = np.array(X_test)\n",
    "X_test = np.reshape(X_test, (X_test.shape[0], X_test.shape[1], 1))"
   ]
  },
  {
   "cell_type": "code",
   "execution_count": 17,
   "metadata": {},
   "outputs": [],
   "source": [
    "predicted_stock_price = regressor.predict(X_test)\n",
    "predicted_stock_price = sc.inverse_transform(predicted_stock_price)"
   ]
  },
  {
   "cell_type": "code",
   "execution_count": 18,
   "metadata": {},
   "outputs": [
    {
     "data": {
      "image/png": "[encoded data removed]",
      "text/plain": [
       "<Figure size 432x288 with 1 Axes>"
      ]
     },
     "metadata": {
      "needs_background": "light"
     },
     "output_type": "display_data"
    }
   ],
   "source": [
    "# Visualising the results\n",
    "plt.plot(real_stock_price, color = 'red', label = 'Real TCS Stock Price')\n",
    "plt.plot(predicted_stock_price, color = 'blue', label = 'Predicted TCS Stock Price')\n",
    "plt.title('TCS Stock Price Prediction')\n",
    "plt.xlabel('Time')\n",
    "plt.ylabel('TCS Stock Price')\n",
    "plt.legend()\n",
    "plt.show()"
   ]
  },
  {
   "cell_type": "code",
   "execution_count": 19,
   "metadata": {},
   "outputs": [
    {
     "data": {
      "text/html": [
       "<div>\n",
       "<style scoped>\n",
       "    .dataframe tbody tr th:only-of-type {\n",
       "        vertical-align: middle;\n",
       "    }\n",
       "\n",
       "    .dataframe tbody tr th {\n",
       "        vertical-align: top;\n",
       "    }\n",
       "\n",
       "    .dataframe thead th {\n",
       "        text-align: right;\n",
       "    }\n",
       "</style>\n",
       "<table border=\"1\" class=\"dataframe\">\n",
       "  <thead>\n",
       "    <tr style=\"text-align: right;\">\n",
       "      <th></th>\n",
       "      <th>real</th>\n",
       "      <th>predicted</th>\n",
       "    </tr>\n",
       "  </thead>\n",
       "  <tbody>\n",
       "    <tr>\n",
       "      <td>0</td>\n",
       "      <td>2060.000000</td>\n",
       "      <td>2040.335327</td>\n",
       "    </tr>\n",
       "    <tr>\n",
       "      <td>1</td>\n",
       "      <td>2027.699951</td>\n",
       "      <td>2040.625732</td>\n",
       "    </tr>\n",
       "    <tr>\n",
       "      <td>2</td>\n",
       "      <td>2053.000000</td>\n",
       "      <td>2040.637695</td>\n",
       "    </tr>\n",
       "    <tr>\n",
       "      <td>3</td>\n",
       "      <td>2083.000000</td>\n",
       "      <td>2039.994019</td>\n",
       "    </tr>\n",
       "    <tr>\n",
       "      <td>4</td>\n",
       "      <td>2124.000000</td>\n",
       "      <td>2042.031250</td>\n",
       "    </tr>\n",
       "    <tr>\n",
       "      <td>5</td>\n",
       "      <td>2127.949951</td>\n",
       "      <td>2051.424561</td>\n",
       "    </tr>\n",
       "    <tr>\n",
       "      <td>6</td>\n",
       "      <td>2060.000000</td>\n",
       "      <td>2067.850342</td>\n",
       "    </tr>\n",
       "    <tr>\n",
       "      <td>7</td>\n",
       "      <td>2025.400024</td>\n",
       "      <td>2080.728516</td>\n",
       "    </tr>\n",
       "    <tr>\n",
       "      <td>8</td>\n",
       "      <td>2051.100098</td>\n",
       "      <td>2081.311523</td>\n",
       "    </tr>\n",
       "    <tr>\n",
       "      <td>9</td>\n",
       "      <td>2023.000000</td>\n",
       "      <td>2072.041992</td>\n",
       "    </tr>\n",
       "    <tr>\n",
       "      <td>10</td>\n",
       "      <td>2096.000000</td>\n",
       "      <td>2056.319092</td>\n",
       "    </tr>\n",
       "    <tr>\n",
       "      <td>11</td>\n",
       "      <td>2126.500000</td>\n",
       "      <td>2045.199219</td>\n",
       "    </tr>\n",
       "    <tr>\n",
       "      <td>12</td>\n",
       "      <td>2174.000000</td>\n",
       "      <td>2046.980225</td>\n",
       "    </tr>\n",
       "    <tr>\n",
       "      <td>13</td>\n",
       "      <td>2179.800049</td>\n",
       "      <td>2066.107178</td>\n",
       "    </tr>\n",
       "    <tr>\n",
       "      <td>14</td>\n",
       "      <td>2220.000000</td>\n",
       "      <td>2097.804443</td>\n",
       "    </tr>\n",
       "    <tr>\n",
       "      <td>15</td>\n",
       "      <td>2210.000000</td>\n",
       "      <td>2135.369873</td>\n",
       "    </tr>\n",
       "    <tr>\n",
       "      <td>16</td>\n",
       "      <td>2239.000000</td>\n",
       "      <td>2168.201904</td>\n",
       "    </tr>\n",
       "    <tr>\n",
       "      <td>17</td>\n",
       "      <td>2216.399902</td>\n",
       "      <td>2191.933105</td>\n",
       "    </tr>\n",
       "    <tr>\n",
       "      <td>18</td>\n",
       "      <td>2208.000000</td>\n",
       "      <td>2202.730225</td>\n",
       "    </tr>\n",
       "    <tr>\n",
       "      <td>19</td>\n",
       "      <td>2207.000000</td>\n",
       "      <td>2200.954102</td>\n",
       "    </tr>\n",
       "    <tr>\n",
       "      <td>20</td>\n",
       "      <td>2189.000000</td>\n",
       "      <td>2190.820557</td>\n",
       "    </tr>\n",
       "    <tr>\n",
       "      <td>21</td>\n",
       "      <td>2168.000000</td>\n",
       "      <td>2176.025146</td>\n",
       "    </tr>\n",
       "  </tbody>\n",
       "</table>\n",
       "</div>"
      ],
      "text/plain": [
       "           real    predicted\n",
       "0   2060.000000  2040.335327\n",
       "1   2027.699951  2040.625732\n",
       "2   2053.000000  2040.637695\n",
       "3   2083.000000  2039.994019\n",
       "4   2124.000000  2042.031250\n",
       "5   2127.949951  2051.424561\n",
       "6   2060.000000  2067.850342\n",
       "7   2025.400024  2080.728516\n",
       "8   2051.100098  2081.311523\n",
       "9   2023.000000  2072.041992\n",
       "10  2096.000000  2056.319092\n",
       "11  2126.500000  2045.199219\n",
       "12  2174.000000  2046.980225\n",
       "13  2179.800049  2066.107178\n",
       "14  2220.000000  2097.804443\n",
       "15  2210.000000  2135.369873\n",
       "16  2239.000000  2168.201904\n",
       "17  2216.399902  2191.933105\n",
       "18  2208.000000  2202.730225\n",
       "19  2207.000000  2200.954102\n",
       "20  2189.000000  2190.820557\n",
       "21  2168.000000  2176.025146"
      ]
     },
     "execution_count": 19,
     "metadata": {},
     "output_type": "execute_result"
    }
   ],
   "source": [
    "pd.DataFrame({'real':real_stock_price.flatten(),'predicted':predicted_stock_price.flatten()})"
   ]
  },
  {
   "cell_type": "code",
   "execution_count": null,
   "metadata": {},
   "outputs": [],
   "source": []
  }
 ],
 "metadata": {
  "kernelspec": {
   "display_name": "Python 3",
   "language": "python",
   "name": "python3"
  },
  "language_info": {
   "codemirror_mode": {
    "name": "ipython",
    "version": 3
   },
   "file_extension": ".py",
   "mimetype": "text/x-python",
   "name": "python",
   "nbconvert_exporter": "python",
   "pygments_lexer": "ipython3",
   "version": "3.7.3"
  },
  "varInspector": {
   "cols": {
    "lenName": 16,
    "lenType": 16,
    "lenVar": 40
   },
   "kernels_config": {
    "python": {
     "delete_cmd_postfix": "",
     "delete_cmd_prefix": "del ",
     "library": "var_list.py",
     "varRefreshCmd": "print(var_dic_list())"
    },
    "r": {
     "delete_cmd_postfix": ") ",
     "delete_cmd_prefix": "rm(",
     "library": "var_list.r",
     "varRefreshCmd": "cat(var_dic_list()) "
    }
   },
   "types_to_exclude": [
    "module",
    "function",
    "builtin_function_or_method",
    "instance",
    "_Feature"
   ],
   "window_display": false
  }
 },
 "nbformat": 4,
 "nbformat_minor": 2
}
